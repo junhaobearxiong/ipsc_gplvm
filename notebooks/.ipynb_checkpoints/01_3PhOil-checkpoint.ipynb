{
 "cells": [
  {
   "cell_type": "code",
   "execution_count": 2,
   "metadata": {},
   "outputs": [
    {
     "name": "stdout",
     "output_type": "stream",
     "text": [
      "The autoreload extension is already loaded. To reload it, use:\n",
      "  %reload_ext autoreload\n"
     ]
    }
   ],
   "source": [
    "%load_ext autoreload\n",
    "%autoreload 2"
   ]
  },
  {
   "cell_type": "code",
   "execution_count": 7,
   "metadata": {},
   "outputs": [],
   "source": [
    "import numpy as np\n",
    "import tensorflow as tf\n",
    "import pandas as pd\n",
    "import matplotlib.pyplot as plt\n",
    "import sys\n",
    "import warnings\n",
    "import time\n",
    "from typing import Tuple, List\n",
    "import pickle\n",
    "\n",
    "import gpflow\n",
    "from gpflow.utilities import ops, print_summary\n",
    "from gpflow.config import set_default_float, default_float, set_default_summary_fmt, default_jitter\n",
    "from gpflow.ci_utils import ci_niter\n",
    "from gpflow.models import gplvm\n",
    "from gpflow.optimizers import NaturalGradient\n",
    "from gpflow import covariances, set_trainable\n",
    "from gpflow.models.util import inducingpoint_wrapper\n",
    "\n",
    "from split_gplvm import SplitGPLVM\n",
    "from test_gplvm import TestGPLVM\n",
    "from utils import *"
   ]
  },
  {
   "cell_type": "code",
   "execution_count": 4,
   "metadata": {},
   "outputs": [],
   "source": [
    "data = pd.read_csv('../data/3PhData/DataTrn.txt', sep='  ', header=None, engine='python')\n",
    "labels_dummy = pd.read_csv('../data/3PhData/DataTrnLbls.txt', sep='  ', header=None, engine='python')"
   ]
  },
  {
   "cell_type": "code",
   "execution_count": 5,
   "metadata": {},
   "outputs": [],
   "source": [
    "# subsample to smaller size\n",
    "data = data.sample(100, random_state=1).sort_index()\n",
    "labels_dummy = labels_dummy.loc[data.index, :]"
   ]
  },
  {
   "cell_type": "code",
   "execution_count": 6,
   "metadata": {},
   "outputs": [],
   "source": [
    "labels = labels_dummy.apply(lambda x: np.where(x == 1)[0][0] + 1, axis=1).values\n",
    "Y = tf.convert_to_tensor(data, dtype=default_float())\n",
    "labels = tf.convert_to_tensor(labels)"
   ]
  },
  {
   "cell_type": "markdown",
   "metadata": {},
   "source": [
    "### Bayesian GPLVM"
   ]
  },
  {
   "cell_type": "code",
   "execution_count": 56,
   "metadata": {},
   "outputs": [
    {
     "data": {
      "text/plain": [
       "<tf.Variable 'UnreadVariable' shape=() dtype=float64, numpy=-4.600266525158521>"
      ]
     },
     "execution_count": 56,
     "metadata": {},
     "output_type": "execute_result"
    }
   ],
   "source": [
    "# reproduce the settings in Titsias 2009\n",
    "\n",
    "np.random.seed(2)  # for reproducibility\n",
    "\n",
    "latent_dim = 10  # number of latent dimensions\n",
    "num_inducing = 20  # number of inducing pts\n",
    "num_data = Y.shape[0]  # number of data points\n",
    "\n",
    "X_mean_init = ops.pca_reduce(Y, latent_dim)\n",
    "X_var_init = tf.ones((num_data, latent_dim), dtype=default_float()) * 0.5\n",
    "\n",
    "inducing_variable = tf.convert_to_tensor(\n",
    "    np.random.permutation(X_mean_init.numpy())[:num_inducing], dtype=default_float()\n",
    ")\n",
    "\n",
    "lengthscales = tf.convert_to_tensor([1.0] * latent_dim, dtype=default_float())\n",
    "kernel = gpflow.kernels.SquaredExponential(lengthscales=lengthscales)\n",
    "\n",
    "bgplvm = gpflow.models.BayesianGPLVM(\n",
    "    Y,\n",
    "    X_data_mean=X_mean_init,\n",
    "    X_data_var=X_var_init,\n",
    "    kernel=kernel,\n",
    "    inducing_variable=inducing_variable,\n",
    ")\n",
    "\n",
    "bgplvm.likelihood.variance.assign(0.01)"
   ]
  },
  {
   "cell_type": "code",
   "execution_count": 57,
   "metadata": {},
   "outputs": [
    {
     "data": {
      "text/plain": [
       "<tf.Tensor: shape=(), dtype=float64, numpy=-74283.68958941477>"
      ]
     },
     "execution_count": 57,
     "metadata": {},
     "output_type": "execute_result"
    }
   ],
   "source": [
    "bgplvm.elbo()"
   ]
  },
  {
   "cell_type": "markdown",
   "metadata": {},
   "source": [
    "#### Using Scipy optimizer"
   ]
  },
  {
   "cell_type": "code",
   "execution_count": 58,
   "metadata": {},
   "outputs": [
    {
     "name": "stdout",
     "output_type": "stream",
     "text": [
      "Warning: Desired error not necessarily achieved due to precision loss.\n",
      "         Current function value: 27.932027\n",
      "         Iterations: 770\n",
      "         Function evaluations: 791\n",
      "         Gradient evaluations: 780\n",
      "CPU times: user 15min, sys: 48.4 s, total: 15min 48s\n",
      "Wall time: 8min 26s\n"
     ]
    }
   ],
   "source": [
    "%%time\n",
    "opt = gpflow.optimizers.Scipy()\n",
    "maxiter = ci_niter(1000)\n",
    "_ = opt.minimize(\n",
    "    bgplvm.training_loss,\n",
    "    method=\"BFGS\",\n",
    "    variables=bgplvm.trainable_variables,\n",
    "    options=dict(maxiter=maxiter, disp=True),\n",
    ")"
   ]
  },
  {
   "cell_type": "code",
   "execution_count": 59,
   "metadata": {},
   "outputs": [
    {
     "data": {
      "text/html": [
       "&lt;gpflow.models.gplvm.BayesianGPLVM object at 0x15bcb6198&gt;\n",
       "<table>\n",
       "<thead>\n",
       "<tr><th>name                             </th><th>class    </th><th>transform       </th><th>prior  </th><th>trainable  </th><th>shape    </th><th>dtype  </th><th>value                                                </th></tr>\n",
       "</thead>\n",
       "<tbody>\n",
       "<tr><td>BayesianGPLVM.kernel.variance    </td><td>Parameter</td><td>Softplus        </td><td>       </td><td>True       </td><td>()       </td><td>float64</td><td>1.3769832716376151                                   </td></tr>\n",
       "<tr><td>BayesianGPLVM.kernel.lengthscales</td><td>Parameter</td><td>Softplus        </td><td>       </td><td>True       </td><td>(10,)    </td><td>float64</td><td>[6.13354538e+07, 7.45038258e+07, 7.31691767e+07...   </td></tr>\n",
       "<tr><td>BayesianGPLVM.likelihood.variance</td><td>Parameter</td><td>Softplus + Shift</td><td>       </td><td>True       </td><td>()       </td><td>float64</td><td>0.010635517838846673                                 </td></tr>\n",
       "<tr><td>BayesianGPLVM.X_data_mean        </td><td>Parameter</td><td>                </td><td>       </td><td>True       </td><td>(100, 10)</td><td>float64</td><td>[[-9.97553928e-07, 1.04762988e-06, -7.96825987e-07...</td></tr>\n",
       "<tr><td>BayesianGPLVM.X_data_var         </td><td>Parameter</td><td>Softplus        </td><td>       </td><td>True       </td><td>(100, 10)</td><td>float64</td><td>[[9.99878898e-01, 9.99984443e-01, 9.99939017e-01...  </td></tr>\n",
       "<tr><td>BayesianGPLVM.inducing_variable.Z</td><td>Parameter</td><td>                </td><td>       </td><td>True       </td><td>(20, 10) </td><td>float64</td><td>[[6.27954442e+07, 4.64063301e+07, 6.31032845e+07...  </td></tr>\n",
       "</tbody>\n",
       "</table>"
      ],
      "text/plain": [
       "<gpflow.models.gplvm.BayesianGPLVM object at 0x15bcb6198>\n",
       "╒═══════════════════════════════════╤═══════════╤══════════════════╤═════════╤═════════════╤═══════════╤═════════╤═══════════════════════════════════════════════════════╕\n",
       "│ name                              │ class     │ transform        │ prior   │ trainable   │ shape     │ dtype   │ value                                                 │\n",
       "╞═══════════════════════════════════╪═══════════╪══════════════════╪═════════╪═════════════╪═══════════╪═════════╪═══════════════════════════════════════════════════════╡\n",
       "│ BayesianGPLVM.kernel.variance     │ Parameter │ Softplus         │         │ True        │ ()        │ float64 │ 1.3769832716376151                                    │\n",
       "├───────────────────────────────────┼───────────┼──────────────────┼─────────┼─────────────┼───────────┼─────────┼───────────────────────────────────────────────────────┤\n",
       "│ BayesianGPLVM.kernel.lengthscales │ Parameter │ Softplus         │         │ True        │ (10,)     │ float64 │ [6.13354538e+07, 7.45038258e+07, 7.31691767e+07...    │\n",
       "├───────────────────────────────────┼───────────┼──────────────────┼─────────┼─────────────┼───────────┼─────────┼───────────────────────────────────────────────────────┤\n",
       "│ BayesianGPLVM.likelihood.variance │ Parameter │ Softplus + Shift │         │ True        │ ()        │ float64 │ 0.010635517838846673                                  │\n",
       "├───────────────────────────────────┼───────────┼──────────────────┼─────────┼─────────────┼───────────┼─────────┼───────────────────────────────────────────────────────┤\n",
       "│ BayesianGPLVM.X_data_mean         │ Parameter │                  │         │ True        │ (100, 10) │ float64 │ [[-9.97553928e-07, 1.04762988e-06, -7.96825987e-07... │\n",
       "├───────────────────────────────────┼───────────┼──────────────────┼─────────┼─────────────┼───────────┼─────────┼───────────────────────────────────────────────────────┤\n",
       "│ BayesianGPLVM.X_data_var          │ Parameter │ Softplus         │         │ True        │ (100, 10) │ float64 │ [[9.99878898e-01, 9.99984443e-01, 9.99939017e-01...   │\n",
       "├───────────────────────────────────┼───────────┼──────────────────┼─────────┼─────────────┼───────────┼─────────┼───────────────────────────────────────────────────────┤\n",
       "│ BayesianGPLVM.inducing_variable.Z │ Parameter │                  │         │ True        │ (20, 10)  │ float64 │ [[6.27954442e+07, 4.64063301e+07, 6.31032845e+07...   │\n",
       "╘═══════════════════════════════════╧═══════════╧══════════════════╧═════════╧═════════════╧═══════════╧═════════╧═══════════════════════════════════════════════════════╛"
      ]
     },
     "execution_count": 59,
     "metadata": {},
     "output_type": "execute_result"
    }
   ],
   "source": [
    "bgplvm"
   ]
  },
  {
   "cell_type": "markdown",
   "metadata": {},
   "source": [
    "M = 20"
   ]
  },
  {
   "cell_type": "code",
   "execution_count": 60,
   "metadata": {},
   "outputs": [
    {
     "data": {
      "text/plain": [
       "<BarContainer object of 10 artists>"
      ]
     },
     "execution_count": 60,
     "metadata": {},
     "output_type": "execute_result"
    },
    {
     "data": {
      "image/png": "[encoded data removed]",
      "text/plain": [
       "<Figure size 432x288 with 1 Axes>"
      ]
     },
     "metadata": {
      "needs_background": "light"
     },
     "output_type": "display_data"
    }
   ],
   "source": [
    "plt.bar(np.linspace(1, 10, 10, dtype=int), 1 / bgplvm.kernel.lengthscales.numpy())"
   ]
  },
  {
   "cell_type": "code",
   "execution_count": 61,
   "metadata": {},
   "outputs": [
    {
     "data": {
      "image/png": "[encoded data removed]",
      "text/plain": [
       "<Figure size 720x432 with 2 Axes>"
      ]
     },
     "metadata": {
      "needs_background": "light"
     },
     "output_type": "display_data"
    }
   ],
   "source": [
    "X_pca = ops.pca_reduce(Y, 2).numpy()\n",
    "gplvm_X_mean = bgplvm.X_data_mean.numpy()\n",
    "top_idx = np.argsort(1 / bgplvm.kernel.lengthscales.numpy())[-2:]\n",
    "\n",
    "f, ax = plt.subplots(1, 2, figsize=(10, 6))\n",
    "\n",
    "for i in np.unique(labels):\n",
    "    ax[0].scatter(X_pca[labels == i, 0], X_pca[labels == i, 1], label=i)\n",
    "    ax[1].scatter(gplvm_X_mean[labels == i, top_idx[-1]], gplvm_X_mean[labels == i, top_idx[-2]], label=i)\n",
    "    ax[0].set_title(\"PCA\")\n",
    "    ax[1].set_title(\"Bayesian GPLVM\")"
   ]
  },
  {
   "cell_type": "markdown",
   "metadata": {},
   "source": [
    "M = 50"
   ]
  },
  {
   "cell_type": "code",
   "execution_count": 236,
   "metadata": {},
   "outputs": [
    {
     "data": {
      "text/plain": [
       "<BarContainer object of 10 artists>"
      ]
     },
     "execution_count": 236,
     "metadata": {},
     "output_type": "execute_result"
    },
    {
     "data": {
      "image/png": "[encoded data removed]",
      "text/plain": [
       "<Figure size 432x288 with 1 Axes>"
      ]
     },
     "metadata": {
      "needs_background": "light"
     },
     "output_type": "display_data"
    }
   ],
   "source": [
    "plt.bar(np.linspace(1, 10, 10, dtype=int), 1 / bgplvm.kernel.lengthscales.numpy())"
   ]
  },
  {
   "cell_type": "code",
   "execution_count": 237,
   "metadata": {},
   "outputs": [
    {
     "data": {
      "image/png": "[encoded data removed]",
      "text/plain": [
       "<Figure size 720x432 with 2 Axes>"
      ]
     },
     "metadata": {
      "needs_background": "light"
     },
     "output_type": "display_data"
    }
   ],
   "source": [
    "X_pca = ops.pca_reduce(Y, 2).numpy()\n",
    "gplvm_X_mean = bgplvm.X_data_mean.numpy()\n",
    "top_idx = np.argsort(1 / bgplvm.kernel.lengthscales.numpy())[-2:]\n",
    "\n",
    "f, ax = plt.subplots(1, 2, figsize=(10, 6))\n",
    "\n",
    "for i in np.unique(labels):\n",
    "    ax[0].scatter(X_pca[labels == i, 0], X_pca[labels == i, 1], label=i)\n",
    "    ax[1].scatter(gplvm_X_mean[labels == i, top_idx[-1]], gplvm_X_mean[labels == i, top_idx[-2]], label=i)\n",
    "    ax[0].set_title(\"PCA\")\n",
    "    ax[1].set_title(\"Bayesian GPLVM\")"
   ]
  },
  {
   "cell_type": "markdown",
   "metadata": {},
   "source": [
    "#### Using Adam"
   ]
  },
  {
   "cell_type": "code",
   "execution_count": 414,
   "metadata": {
    "scrolled": true
   },
   "outputs": [
    {
     "name": "stdout",
     "output_type": "stream",
     "text": [
      "initial elbo -69656.4498\n",
      "WARNING:tensorflow:AutoGraph could not transform <function optimization_step at 0x1532b80d0> and will run it as-is.\n",
      "Please report this to the TensorFlow team. When filing the bug, set the verbosity to 10 (on Linux, `export AUTOGRAPH_VERBOSITY=10`) and attach the full output.\n",
      "Cause: Unable to locate the source code of <function optimization_step at 0x1532b80d0>. Note that functions defined in certain environments, like the interactive Python shell do not expose their source code. If that is the case, you should to define them in a .py source file. If you are certain the code is graph-compatible, wrap the call using @tf.autograph.do_not_convert. Original error: could not get source code\n",
      "To silence this warning, decorate the function with @tf.autograph.experimental.do_not_convert\n",
      "WARNING: AutoGraph could not transform <function optimization_step at 0x1532b80d0> and will run it as-is.\n",
      "Please report this to the TensorFlow team. When filing the bug, set the verbosity to 10 (on Linux, `export AUTOGRAPH_VERBOSITY=10`) and attach the full output.\n",
      "Cause: Unable to locate the source code of <function optimization_step at 0x1532b80d0>. Note that functions defined in certain environments, like the interactive Python shell do not expose their source code. If that is the case, you should to define them in a .py source file. If you are certain the code is graph-compatible, wrap the call using @tf.autograph.do_not_convert. Original error: could not get source code\n",
      "To silence this warning, decorate the function with @tf.autograph.experimental.do_not_convert\n",
      "iteration 100 elbo -7780.7320, took 0.0138s\n",
      "iteration 200 elbo -3204.7444, took 0.0120s\n",
      "iteration 300 elbo -2074.5569, took 0.0117s\n",
      "iteration 400 elbo -1605.4787, took 0.0114s\n",
      "iteration 500 elbo -1363.8785, took 0.0120s\n",
      "iteration 600 elbo -1222.6104, took 0.0116s\n",
      "iteration 700 elbo -1132.1085, took 0.0119s\n",
      "iteration 800 elbo -1069.4264, took 0.0115s\n",
      "iteration 900 elbo -1022.7520, took 0.0118s\n",
      "iteration 1000 elbo -986.2502, took 0.0128s\n",
      "iteration 1100 elbo -956.6199, took 0.0116s\n",
      "iteration 1200 elbo -931.3646, took 0.0122s\n",
      "iteration 1300 elbo -908.8676, took 0.0125s\n",
      "iteration 1400 elbo -888.1258, took 0.0120s\n",
      "iteration 1500 elbo -868.5166, took 0.0117s\n",
      "iteration 1600 elbo -849.6520, took 0.0121s\n",
      "iteration 1700 elbo -831.2887, took 0.0125s\n",
      "iteration 1800 elbo -813.2800, took 0.0164s\n",
      "iteration 1900 elbo -795.5463, took 0.0142s\n",
      "iteration 2000 elbo -778.0548, took 0.0120s\n",
      "iteration 2100 elbo -760.8043, took 0.0121s\n",
      "iteration 2200 elbo -743.8137, took 0.0127s\n",
      "iteration 2300 elbo -727.1111, took 0.0128s\n",
      "iteration 2400 elbo -710.7266, took 0.0130s\n",
      "iteration 2500 elbo -694.6881, took 0.0121s\n",
      "iteration 2600 elbo -679.0192, took 0.0109s\n",
      "iteration 2700 elbo -663.7389, took 0.0124s\n",
      "iteration 2800 elbo -648.8607, took 0.0159s\n",
      "iteration 2900 elbo -634.3923, took 0.0218s\n",
      "iteration 3000 elbo -620.3287, took 0.0183s\n",
      "iteration 3100 elbo -606.6320, took 0.0119s\n",
      "iteration 3200 elbo -593.1876, took 0.0122s\n",
      "iteration 3300 elbo -579.8027, took 0.0127s\n",
      "iteration 3400 elbo -566.5505, took 0.0198s\n",
      "iteration 3500 elbo -553.7912, took 0.0109s\n",
      "iteration 3600 elbo -541.5732, took 0.0118s\n",
      "iteration 3700 elbo -529.8179, took 0.0117s\n",
      "iteration 3800 elbo -518.4588, took 0.0125s\n",
      "iteration 3900 elbo -507.4445, took 0.0121s\n",
      "iteration 4000 elbo -496.7330, took 0.0144s\n",
      "iteration 4100 elbo -486.2879, took 0.0139s\n",
      "iteration 4200 elbo -476.0760, took 0.0129s\n",
      "iteration 4300 elbo -466.0663, took 0.0116s\n",
      "iteration 4400 elbo -456.2249, took 0.0109s\n",
      "iteration 4500 elbo -446.5048, took 0.0112s\n",
      "iteration 4600 elbo -436.8469, took 0.0135s\n",
      "iteration 4700 elbo -427.2768, took 0.0126s\n",
      "iteration 4800 elbo -417.8556, took 0.0118s\n",
      "iteration 4900 elbo -408.5335, took 0.0130s\n",
      "iteration 5000 elbo -399.1693, took 0.0117s\n",
      "iteration 5100 elbo -390.0799, took 0.0118s\n",
      "iteration 5200 elbo -381.1333, took 0.0118s\n",
      "iteration 5300 elbo -372.2690, took 0.0227s\n",
      "iteration 5400 elbo -363.4630, took 0.0115s\n",
      "iteration 5500 elbo -354.7183, took 0.0176s\n",
      "iteration 5600 elbo -345.9761, took 0.0139s\n",
      "iteration 5700 elbo -337.0539, took 0.0130s\n",
      "iteration 5800 elbo -328.0793, took 0.0125s\n",
      "iteration 5900 elbo -319.3551, took 0.0126s\n",
      "iteration 6000 elbo -310.9125, took 0.0134s\n",
      "iteration 6100 elbo -302.7511, took 0.0117s\n",
      "iteration 6200 elbo -294.8653, took 0.0910s\n",
      "iteration 6300 elbo -287.2095, took 0.0146s\n",
      "iteration 6400 elbo -279.7425, took 0.0128s\n",
      "iteration 6500 elbo -272.4429, took 0.0120s\n",
      "iteration 6600 elbo -265.2999, took 0.0127s\n",
      "iteration 6700 elbo -258.3171, took 0.0131s\n",
      "iteration 6800 elbo -251.4929, took 0.0128s\n",
      "iteration 6900 elbo -244.8193, took 0.0154s\n",
      "iteration 7000 elbo -238.2901, took 0.0150s\n",
      "iteration 7100 elbo -231.8953, took 0.0105s\n",
      "iteration 7200 elbo -225.6271, took 0.0158s\n",
      "iteration 7300 elbo -219.4800, took 0.0132s\n",
      "iteration 7400 elbo -213.4441, took 0.0129s\n",
      "iteration 7500 elbo -207.5084, took 0.0117s\n",
      "iteration 7600 elbo -201.6561, took 0.0198s\n",
      "iteration 7700 elbo -195.8678, took 0.0126s\n",
      "iteration 7800 elbo -190.1570, took 0.0121s\n",
      "iteration 7900 elbo -184.5654, took 0.0115s\n",
      "iteration 8000 elbo -179.1072, took 0.0129s\n",
      "iteration 8100 elbo -173.7792, took 0.0123s\n",
      "iteration 8200 elbo -168.5652, took 0.0114s\n",
      "iteration 8300 elbo -163.4434, took 0.0125s\n",
      "iteration 8400 elbo -158.3896, took 0.0130s\n",
      "iteration 8500 elbo -153.3854, took 0.0122s\n",
      "iteration 8600 elbo -148.4500, took 0.0121s\n",
      "iteration 8700 elbo -143.6216, took 0.0124s\n",
      "iteration 8800 elbo -138.9058, took 0.0118s\n",
      "iteration 8900 elbo -134.2750, took 0.0112s\n",
      "iteration 9000 elbo -129.7198, took 0.0120s\n",
      "iteration 9100 elbo -125.2467, took 0.0141s\n",
      "iteration 9200 elbo -120.8524, took 0.0121s\n",
      "iteration 9300 elbo -116.5285, took 0.0120s\n",
      "iteration 9400 elbo -112.2769, took 0.0177s\n",
      "iteration 9500 elbo -108.0932, took 0.0198s\n",
      "iteration 9600 elbo -103.9777, took 0.0162s\n",
      "iteration 9700 elbo -99.9258, took 0.0144s\n",
      "iteration 9800 elbo -95.9391, took 0.0147s\n",
      "iteration 9900 elbo -92.0139, took 0.0221s\n",
      "iteration 10000 elbo -88.1500, took 0.0119s\n",
      "iteration 10100 elbo -84.3466, took 0.0116s\n",
      "iteration 10200 elbo -80.6023, took 0.0182s\n",
      "iteration 10300 elbo -76.9139, took 0.0128s\n",
      "iteration 10400 elbo -73.2799, took 0.0120s\n",
      "iteration 10500 elbo -69.7010, took 0.0124s\n",
      "iteration 10600 elbo -66.1721, took 0.0120s\n",
      "iteration 10700 elbo -62.6864, took 0.0125s\n",
      "iteration 10800 elbo -59.2150, took 0.0126s\n",
      "iteration 10900 elbo -55.3997, took 0.0111s\n",
      "iteration 11000 elbo -50.2540, took 0.0119s\n",
      "iteration 11100 elbo -45.8182, took 0.0128s\n",
      "iteration 11200 elbo -42.0137, took 0.0216s\n",
      "iteration 11300 elbo -38.3710, took 0.0123s\n",
      "iteration 11400 elbo -34.8254, took 0.0112s\n",
      "iteration 11500 elbo -31.3606, took 0.0109s\n",
      "iteration 11600 elbo -27.9733, took 0.0120s\n",
      "iteration 11700 elbo -24.6572, took 0.0119s\n",
      "iteration 11800 elbo -21.4124, took 0.0116s\n",
      "iteration 11900 elbo -18.2317, took 0.0114s\n",
      "iteration 12000 elbo -15.1195, took 0.0113s\n",
      "iteration 12100 elbo -12.0694, took 0.0128s\n",
      "iteration 12200 elbo -9.0821, took 0.0122s\n",
      "iteration 12300 elbo -6.1537, took 0.0117s\n",
      "iteration 12400 elbo -3.2808, took 0.0115s\n",
      "iteration 12500 elbo -0.4373, took 0.0108s\n",
      "iteration 12600 elbo 2.4682, took 0.0116s\n",
      "iteration 12700 elbo 5.3025, took 0.0123s\n",
      "iteration 12800 elbo 8.0384, took 0.0115s\n",
      "iteration 12900 elbo 10.6937, took 0.0124s\n",
      "iteration 13000 elbo 13.2785, took 0.0104s\n",
      "iteration 13100 elbo 15.8095, took 0.0126s\n",
      "iteration 13200 elbo 18.3555, took 0.0131s\n",
      "iteration 13300 elbo 20.8162, took 0.0127s\n",
      "iteration 13400 elbo 23.2189, took 0.0111s\n",
      "iteration 13500 elbo 25.6609, took 0.0119s\n",
      "iteration 13600 elbo 28.0015, took 0.0120s\n",
      "iteration 13700 elbo 30.2729, took 0.0117s\n",
      "iteration 13800 elbo 32.5061, took 0.0111s\n",
      "iteration 13900 elbo 34.7009, took 0.0125s\n",
      "iteration 14000 elbo 36.8522, took 0.0122s\n",
      "iteration 14100 elbo 38.9717, took 0.0125s\n",
      "iteration 14200 elbo 41.0503, took 0.0121s\n",
      "iteration 14300 elbo 43.0958, took 0.0127s\n",
      "iteration 14400 elbo 45.1086, took 0.0114s\n",
      "iteration 14500 elbo 47.0825, took 0.0122s\n",
      "iteration 14600 elbo 49.0271, took 0.0126s\n",
      "iteration 14700 elbo 50.9372, took 0.0139s\n",
      "iteration 14800 elbo 52.8127, took 0.0132s\n",
      "iteration 14900 elbo 54.6528, took 0.0125s\n",
      "iteration 15000 elbo 56.4666, took 0.0117s\n",
      "iteration 15100 elbo 58.2471, took 0.0120s\n"
     ]
    },
    {
     "name": "stdout",
     "output_type": "stream",
     "text": [
      "iteration 15200 elbo 59.9929, took 0.0106s\n",
      "iteration 15300 elbo 61.7117, took 0.0212s\n",
      "iteration 15400 elbo 63.3939, took 0.0129s\n",
      "iteration 15500 elbo 65.0471, took 0.0119s\n",
      "iteration 15600 elbo 66.6753, took 0.0118s\n",
      "iteration 15700 elbo 68.2716, took 0.0125s\n",
      "iteration 15800 elbo 69.8392, took 0.0118s\n",
      "iteration 15900 elbo 71.3789, took 0.0113s\n",
      "iteration 16000 elbo 72.8872, took 0.0125s\n",
      "iteration 16100 elbo 74.3752, took 0.0114s\n",
      "iteration 16200 elbo 75.8328, took 0.0123s\n",
      "iteration 16300 elbo 77.2642, took 0.0116s\n",
      "iteration 16400 elbo 78.6709, took 0.0124s\n",
      "iteration 16500 elbo 80.0548, took 0.0129s\n",
      "iteration 16600 elbo 81.4103, took 0.0142s\n",
      "iteration 16700 elbo 82.7457, took 0.0125s\n",
      "iteration 16800 elbo 84.0569, took 0.0113s\n",
      "iteration 16900 elbo 85.3433, took 0.0111s\n",
      "iteration 17000 elbo 86.6092, took 0.0124s\n",
      "iteration 17100 elbo 87.8515, took 0.0110s\n",
      "iteration 17200 elbo 89.0670, took 0.0110s\n",
      "iteration 17300 elbo 90.2694, took 0.0121s\n",
      "iteration 17400 elbo 91.4437, took 0.0123s\n",
      "iteration 17500 elbo 92.6013, took 0.0124s\n",
      "iteration 17600 elbo 93.7409, took 0.0161s\n",
      "iteration 17700 elbo 94.8584, took 0.0139s\n",
      "iteration 17800 elbo 95.9675, took 0.0122s\n",
      "iteration 17900 elbo 97.0517, took 0.0107s\n",
      "iteration 18000 elbo 98.1318, took 0.0114s\n",
      "iteration 18100 elbo 99.1745, took 0.0117s\n",
      "iteration 18200 elbo 100.2008, took 0.0140s\n",
      "iteration 18300 elbo 101.2085, took 0.0119s\n",
      "iteration 18400 elbo 102.2022, took 0.0159s\n",
      "iteration 18500 elbo 103.1757, took 0.0135s\n",
      "iteration 18600 elbo 104.1299, took 0.0118s\n",
      "iteration 18700 elbo 105.0692, took 0.0131s\n",
      "iteration 18800 elbo 106.0024, took 0.0119s\n",
      "iteration 18900 elbo 106.9132, took 0.0111s\n",
      "iteration 19000 elbo 107.8077, took 0.0126s\n",
      "iteration 19100 elbo 108.6906, took 0.0134s\n",
      "iteration 19200 elbo 109.5500, took 0.0121s\n",
      "iteration 19300 elbo 110.4070, took 0.0134s\n",
      "iteration 19400 elbo 111.2443, took 0.0123s\n",
      "iteration 19500 elbo 112.0692, took 0.0123s\n",
      "iteration 19600 elbo 112.8755, took 0.0125s\n",
      "iteration 19700 elbo 113.6688, took 0.0136s\n",
      "iteration 19800 elbo 114.4639, took 0.0123s\n",
      "iteration 19900 elbo 115.2357, took 0.0115s\n",
      "iteration 20000 elbo 115.9935, took 0.0118s\n",
      "iteration 20100 elbo 116.7376, took 0.0123s\n",
      "iteration 20200 elbo 117.4759, took 0.0130s\n",
      "iteration 20300 elbo 118.2016, took 0.0116s\n",
      "iteration 20400 elbo 118.9115, took 0.0113s\n",
      "iteration 20500 elbo 119.6150, took 0.0122s\n",
      "iteration 20600 elbo 120.3048, took 0.0120s\n",
      "iteration 20700 elbo 120.9819, took 0.0121s\n",
      "iteration 20800 elbo 121.6489, took 0.0124s\n",
      "iteration 20900 elbo 122.3083, took 0.0124s\n",
      "iteration 21000 elbo 122.9553, took 0.0123s\n",
      "iteration 21100 elbo 123.5934, took 0.0121s\n",
      "iteration 21200 elbo 124.2223, took 0.0120s\n",
      "iteration 21300 elbo 124.8360, took 0.0120s\n",
      "iteration 21400 elbo 125.4453, took 0.0118s\n",
      "iteration 21500 elbo 126.0462, took 0.0117s\n",
      "iteration 21600 elbo 126.6351, took 0.0120s\n",
      "iteration 21700 elbo 127.2144, took 0.0166s\n",
      "iteration 21800 elbo 127.7860, took 0.0156s\n",
      "iteration 21900 elbo 128.3481, took 0.0123s\n",
      "iteration 22000 elbo 128.9053, took 0.0149s\n",
      "iteration 22100 elbo 129.4507, took 0.0200s\n",
      "iteration 22200 elbo 129.9888, took 0.0125s\n",
      "iteration 22300 elbo 130.5177, took 0.0131s\n",
      "iteration 22400 elbo 131.0419, took 0.0123s\n",
      "iteration 22500 elbo 131.5568, took 0.0124s\n",
      "iteration 22600 elbo 132.0648, took 0.0128s\n",
      "iteration 22700 elbo 132.5639, took 0.0174s\n",
      "iteration 22800 elbo 133.0565, took 0.0222s\n",
      "iteration 22900 elbo 133.5557, took 0.0148s\n",
      "iteration 23000 elbo 134.2200, took 0.0167s\n",
      "iteration 23100 elbo 134.7084, took 0.0128s\n",
      "iteration 23200 elbo 135.1805, took 0.0134s\n",
      "iteration 23300 elbo 135.6433, took 0.0158s\n",
      "iteration 23400 elbo 136.0976, took 0.0155s\n",
      "iteration 23500 elbo 136.5574, took 0.0154s\n",
      "iteration 23600 elbo 137.0117, took 0.0146s\n",
      "iteration 23700 elbo 137.6780, took 0.0139s\n",
      "iteration 23800 elbo 138.2005, took 0.0138s\n",
      "iteration 23900 elbo 138.6438, took 0.0168s\n",
      "iteration 24000 elbo 139.0776, took 0.0138s\n",
      "iteration 24100 elbo 139.5009, took 0.0180s\n",
      "iteration 24200 elbo 139.9251, took 0.0201s\n",
      "iteration 24300 elbo 140.3391, took 0.0169s\n",
      "iteration 24400 elbo 140.7479, took 0.0179s\n",
      "iteration 24500 elbo 141.3266, took 0.0311s\n",
      "iteration 24600 elbo 141.7475, took 0.0125s\n",
      "iteration 24700 elbo 142.1446, took 0.0147s\n",
      "iteration 24800 elbo 142.5321, took 0.0154s\n",
      "iteration 24900 elbo 142.9167, took 0.0167s\n",
      "iteration 25000 elbo 143.2939, took 0.0146s\n",
      "iteration 25100 elbo 143.6641, took 0.0175s\n",
      "iteration 25200 elbo 144.0331, took 0.0149s\n",
      "iteration 25300 elbo 144.3982, took 0.0154s\n",
      "iteration 25400 elbo 144.7758, took 0.0171s\n",
      "iteration 25500 elbo 145.1301, took 0.0147s\n",
      "iteration 25600 elbo 145.4763, took 0.0155s\n",
      "iteration 25700 elbo 145.8227, took 0.0210s\n",
      "iteration 25800 elbo 146.1585, took 0.0149s\n",
      "iteration 25900 elbo 146.4903, took 0.0150s\n",
      "iteration 26000 elbo 146.8193, took 0.0136s\n",
      "iteration 26100 elbo 147.1445, took 0.0154s\n",
      "iteration 26200 elbo 147.4647, took 0.0111s\n",
      "iteration 26300 elbo 147.7830, took 0.0127s\n",
      "iteration 26400 elbo 148.0920, took 0.0127s\n",
      "iteration 26500 elbo 148.3986, took 0.0115s\n",
      "iteration 26600 elbo 148.6998, took 0.0201s\n",
      "iteration 26700 elbo 148.9988, took 0.0125s\n",
      "iteration 26800 elbo 149.2977, took 0.0127s\n",
      "iteration 26900 elbo 149.6619, took 0.0117s\n",
      "iteration 27000 elbo 149.9588, took 0.0125s\n",
      "iteration 27100 elbo 150.2415, took 0.0130s\n",
      "iteration 27200 elbo 150.5264, took 0.0124s\n",
      "iteration 27300 elbo 150.8047, took 0.0118s\n",
      "iteration 27400 elbo 151.0821, took 0.0117s\n",
      "iteration 27500 elbo 151.3497, took 0.0129s\n",
      "iteration 27600 elbo 151.6169, took 0.0106s\n",
      "iteration 27700 elbo 151.8783, took 0.0119s\n",
      "iteration 27800 elbo 152.1422, took 0.0120s\n",
      "iteration 27900 elbo 152.3992, took 0.0119s\n",
      "iteration 28000 elbo 152.6517, took 0.0114s\n",
      "iteration 28100 elbo 152.9016, took 0.0117s\n",
      "iteration 28200 elbo 153.1504, took 0.0122s\n",
      "iteration 28300 elbo 153.3973, took 0.0120s\n",
      "iteration 28400 elbo 153.6333, took 0.0127s\n",
      "iteration 28500 elbo 153.8768, took 0.0122s\n",
      "iteration 28600 elbo 154.1090, took 0.0118s\n",
      "iteration 28700 elbo 154.3458, took 0.0119s\n",
      "iteration 28800 elbo 154.5754, took 0.0119s\n",
      "iteration 28900 elbo 154.7877, took 0.0124s\n",
      "iteration 29000 elbo 155.0243, took 0.0116s\n",
      "iteration 29100 elbo 155.2482, took 0.0116s\n",
      "iteration 29200 elbo 155.4682, took 0.0127s\n",
      "iteration 29300 elbo 155.6834, took 0.0785s\n",
      "iteration 29400 elbo 155.8985, took 0.0119s\n",
      "iteration 29500 elbo 156.1114, took 0.0139s\n",
      "iteration 29600 elbo 156.3203, took 0.0142s\n",
      "iteration 29700 elbo 156.5284, took 0.0164s\n",
      "iteration 29800 elbo 156.7271, took 0.0126s\n",
      "iteration 29900 elbo 156.9332, took 0.0123s\n",
      "iteration 30000 elbo 157.1342, took 0.0130s\n",
      "CPU times: user 13min 59s, sys: 4min 51s, total: 18min 51s\n",
      "Wall time: 6min 52s\n"
     ]
    }
   ],
   "source": [
    "%%time\n",
    "@tf.function\n",
    "def optimization_step(model: gpflow.models.BayesianGPLVM):\n",
    "    adam_opt.minimize(model.training_loss, var_list=model.trainable_variables)\n",
    "    elbo = model.elbo()\n",
    "    return elbo\n",
    "\n",
    "adam_opt = tf.optimizers.Adam(learning_rate=0.01)\n",
    "\n",
    "logf = []\n",
    "tol = 1e-4\n",
    "log_freq = 100\n",
    "num_iterations = 30000\n",
    "\n",
    "tf.print('initial elbo {:.4f}'.format(bgplvm.elbo()))\n",
    "\n",
    "for step in range(num_iterations):\n",
    "    start_time = time.time()\n",
    "    elbo = optimization_step(bgplvm)\n",
    "    logf.append(elbo)\n",
    "    if step > 0 and np.abs(elbo - logf[-2]) < tol:\n",
    "        tf.print('converge at iteration {} elbo {:.4f}'.format(step+1, elbo))\n",
    "        break\n",
    "    if (step + 1)  % log_freq == 0:\n",
    "        tf.print('iteration {} elbo {:.4f}, took {:.4f}s'.format(step+1, elbo, time.time()-start_time))"
   ]
  },
  {
   "cell_type": "code",
   "execution_count": 415,
   "metadata": {},
   "outputs": [
    {
     "data": {
      "text/html": [
       "&lt;gpflow.models.gplvm.BayesianGPLVM object at 0x152b53390&gt;\n",
       "<table>\n",
       "<thead>\n",
       "<tr><th>name                             </th><th>class    </th><th>transform       </th><th>prior  </th><th>trainable  </th><th>shape    </th><th>dtype  </th><th>value                                                </th></tr>\n",
       "</thead>\n",
       "<tbody>\n",
       "<tr><td>BayesianGPLVM.kernel.variance    </td><td>Parameter</td><td>Softplus        </td><td>       </td><td>True       </td><td>()       </td><td>float64</td><td>0.466081762373777                                    </td></tr>\n",
       "<tr><td>BayesianGPLVM.kernel.lengthscales</td><td>Parameter</td><td>Softplus        </td><td>       </td><td>True       </td><td>(10,)    </td><td>float64</td><td>[159.21111685, 159.41539459, 158.63231026...         </td></tr>\n",
       "<tr><td>BayesianGPLVM.likelihood.variance</td><td>Parameter</td><td>Softplus + Shift</td><td>       </td><td>True       </td><td>()       </td><td>float64</td><td>0.0030002928723618988                                </td></tr>\n",
       "<tr><td>BayesianGPLVM.X_data_mean        </td><td>Parameter</td><td>                </td><td>       </td><td>True       </td><td>(100, 10)</td><td>float64</td><td>[[-8.25542968e-05, 1.13255943e-04, 1.55291729e-04... </td></tr>\n",
       "<tr><td>BayesianGPLVM.X_data_var         </td><td>Parameter</td><td>Softplus        </td><td>       </td><td>True       </td><td>(100, 10)</td><td>float64</td><td>[[9.32697335e-01, 9.32847468e-01, 9.32254394e-01...  </td></tr>\n",
       "<tr><td>BayesianGPLVM.inducing_variable.Z</td><td>Parameter</td><td>                </td><td>       </td><td>True       </td><td>(50, 10) </td><td>float64</td><td>[[-8.13748083e-03, 3.37685229e-02, -8.85990811e-05...</td></tr>\n",
       "</tbody>\n",
       "</table>"
      ],
      "text/plain": [
       "<gpflow.models.gplvm.BayesianGPLVM object at 0x152b53390>\n",
       "╒═══════════════════════════════════╤═══════════╤══════════════════╤═════════╤═════════════╤═══════════╤═════════╤═══════════════════════════════════════════════════════╕\n",
       "│ name                              │ class     │ transform        │ prior   │ trainable   │ shape     │ dtype   │ value                                                 │\n",
       "╞═══════════════════════════════════╪═══════════╪══════════════════╪═════════╪═════════════╪═══════════╪═════════╪═══════════════════════════════════════════════════════╡\n",
       "│ BayesianGPLVM.kernel.variance     │ Parameter │ Softplus         │         │ True        │ ()        │ float64 │ 0.466081762373777                                     │\n",
       "├───────────────────────────────────┼───────────┼──────────────────┼─────────┼─────────────┼───────────┼─────────┼───────────────────────────────────────────────────────┤\n",
       "│ BayesianGPLVM.kernel.lengthscales │ Parameter │ Softplus         │         │ True        │ (10,)     │ float64 │ [159.21111685, 159.41539459, 158.63231026...          │\n",
       "├───────────────────────────────────┼───────────┼──────────────────┼─────────┼─────────────┼───────────┼─────────┼───────────────────────────────────────────────────────┤\n",
       "│ BayesianGPLVM.likelihood.variance │ Parameter │ Softplus + Shift │         │ True        │ ()        │ float64 │ 0.0030002928723618988                                 │\n",
       "├───────────────────────────────────┼───────────┼──────────────────┼─────────┼─────────────┼───────────┼─────────┼───────────────────────────────────────────────────────┤\n",
       "│ BayesianGPLVM.X_data_mean         │ Parameter │                  │         │ True        │ (100, 10) │ float64 │ [[-8.25542968e-05, 1.13255943e-04, 1.55291729e-04...  │\n",
       "├───────────────────────────────────┼───────────┼──────────────────┼─────────┼─────────────┼───────────┼─────────┼───────────────────────────────────────────────────────┤\n",
       "│ BayesianGPLVM.X_data_var          │ Parameter │ Softplus         │         │ True        │ (100, 10) │ float64 │ [[9.32697335e-01, 9.32847468e-01, 9.32254394e-01...   │\n",
       "├───────────────────────────────────┼───────────┼──────────────────┼─────────┼─────────────┼───────────┼─────────┼───────────────────────────────────────────────────────┤\n",
       "│ BayesianGPLVM.inducing_variable.Z │ Parameter │                  │         │ True        │ (50, 10)  │ float64 │ [[-8.13748083e-03, 3.37685229e-02, -8.85990811e-05... │\n",
       "╘═══════════════════════════════════╧═══════════╧══════════════════╧═════════╧═════════════╧═══════════╧═════════╧═══════════════════════════════════════════════════════╛"
      ]
     },
     "execution_count": 415,
     "metadata": {},
     "output_type": "execute_result"
    }
   ],
   "source": [
    "bgplvm"
   ]
  },
  {
   "cell_type": "code",
   "execution_count": 416,
   "metadata": {},
   "outputs": [
    {
     "data": {
      "text/plain": [
       "<BarContainer object of 10 artists>"
      ]
     },
     "execution_count": 416,
     "metadata": {},
     "output_type": "execute_result"
    },
    {
     "data": {
      "image/png": "[encoded data removed]",
      "text/plain": [
       "<Figure size 432x288 with 1 Axes>"
      ]
     },
     "metadata": {
      "needs_background": "light"
     },
     "output_type": "display_data"
    }
   ],
   "source": [
    "plt.bar(np.linspace(1, 10, 10, dtype=int), 1 / bgplvm.kernel.lengthscales.numpy())"
   ]
  },
  {
   "cell_type": "code",
   "execution_count": 417,
   "metadata": {},
   "outputs": [
    {
     "data": {
      "image/png": "[encoded data removed]",
      "text/plain": [
       "<Figure size 720x432 with 2 Axes>"
      ]
     },
     "metadata": {
      "needs_background": "light"
     },
     "output_type": "display_data"
    }
   ],
   "source": [
    "X_pca = ops.pca_reduce(Y, 2).numpy()\n",
    "gplvm_X_mean = bgplvm.X_data_mean.numpy()\n",
    "top_idx = np.argsort(1 / bgplvm.kernel.lengthscales.numpy())[-2:]\n",
    "\n",
    "f, ax = plt.subplots(1, 2, figsize=(10, 6))\n",
    "\n",
    "for i in np.unique(labels):\n",
    "    ax[0].scatter(X_pca[labels == i, 0], X_pca[labels == i, 1], label=i)\n",
    "    ax[1].scatter(gplvm_X_mean[labels == i, top_idx[-1]], gplvm_X_mean[labels == i, top_idx[-2]], label=i)\n",
    "    ax[0].set_title(\"PCA\")\n",
    "    ax[1].set_title(\"Bayesian GPLVM\")"
   ]
  },
  {
   "cell_type": "markdown",
   "metadata": {},
   "source": [
    "#### Current result on Bayesian GPLVM\n",
    "* Setting\n",
    "    * D = 10, M = 50, X_mean initialized w/ PCA, Zs are randomly sampled\n",
    "* Scipy optimizer works (12mins, elbo=-174, num iter=861): initial loss -69656\n",
    "    * Scipy optimization sometimes fails because cholesky of Kuu fails b/c Kuu is not invertible, probably because as the model gets optimized, some inducing points becomes too close to each other\n",
    "* Adam also gives reasonable result (6mins, 30000 iter haven't converged, elbo=157)"
   ]
  },
  {
   "cell_type": "markdown",
   "metadata": {},
   "source": [
    "### Test GPLVM\n",
    "Exact implementation of Bayesian GPLVM. Used to debug my code"
   ]
  },
  {
   "cell_type": "code",
   "execution_count": 6,
   "metadata": {},
   "outputs": [
    {
     "data": {
      "text/plain": [
       "<tf.Variable 'UnreadVariable' shape=() dtype=float64, numpy=-4.600266525158521>"
      ]
     },
     "execution_count": 6,
     "metadata": {},
     "output_type": "execute_result"
    }
   ],
   "source": [
    "# reproduce the settings in Titsias 2009\n",
    "\n",
    "np.random.seed(2)  # for reproducibility\n",
    "\n",
    "latent_dim = 10  # number of latent dimensions\n",
    "num_inducing = 20  # number of inducing pts\n",
    "num_data = Y.shape[0]  # number of data points\n",
    "\n",
    "X_mean_init = ops.pca_reduce(Y, latent_dim)\n",
    "X_var_init = tf.ones((num_data, latent_dim), dtype=default_float()) * 0.5\n",
    "\n",
    "inducing_variable = tf.convert_to_tensor(\n",
    "    np.random.permutation(X_mean_init.numpy())[:num_inducing], dtype=default_float()\n",
    ")\n",
    "\n",
    "k1 = gpflow.kernels.SquaredExponential(lengthscales=[1.0] * 5, active_dims=[0, 1, 2, 3, 4])\n",
    "k2 = gpflow.kernels.SquaredExponential(lengthscales=[1.0] * 5, active_dims=[5, 6, 7, 8, 9])\n",
    "kernel = k1 + k2\n",
    "\n",
    "test_gplvm = TestGPLVM(\n",
    "    Y,\n",
    "    X_data_mean=X_mean_init,\n",
    "    X_data_var=X_var_init,\n",
    "    kernel=kernel,\n",
    "    inducing_variable=inducing_variable,\n",
    ")\n",
    "\n",
    "test_gplvm.likelihood.variance.assign(0.01)"
   ]
  },
  {
   "cell_type": "code",
   "execution_count": 7,
   "metadata": {},
   "outputs": [
    {
     "name": "stdout",
     "output_type": "stream",
     "text": [
      "WARNING:tensorflow:From /Users/jxiong/Documents/Projects/ipsc_gplvm/env/lib/python3.6/site-packages/tensorflow/python/ops/math_grad.py:297: setdiff1d (from tensorflow.python.ops.array_ops) is deprecated and will be removed after 2018-11-30.\n",
      "Instructions for updating:\n",
      "This op will be removed after the deprecation date. Please switch to tf.sets.difference().\n",
      "Warning: Desired error not necessarily achieved due to precision loss.\n",
      "         Current function value: -104.955471\n",
      "         Iterations: 422\n",
      "         Function evaluations: 458\n",
      "         Gradient evaluations: 446\n",
      "CPU times: user 8min 15s, sys: 25.2 s, total: 8min 41s\n",
      "Wall time: 4min 32s\n"
     ]
    }
   ],
   "source": [
    "%%time\n",
    "opt = gpflow.optimizers.Scipy()\n",
    "maxiter = ci_niter(1000)\n",
    "_ = opt.minimize(\n",
    "    test_gplvm.training_loss,\n",
    "    method=\"BFGS\",\n",
    "    variables=test_gplvm.trainable_variables,\n",
    "    options=dict(maxiter=maxiter, disp=True),\n",
    ")"
   ]
  },
  {
   "cell_type": "markdown",
   "metadata": {},
   "source": [
    "#### Experiment 1\n",
    "* Setting\n",
    "    * k1 deals with (1:5) dim, k2 (6:10), k = k1 + k2\n",
    "    * Z = 50, D = 10\n",
    "* Result\n",
    "    * Scipy optimizer, converge at ELBO=180 around 7mins\n",
    "    * We are overfitting in the first 5 dimensions: all lengthscales are extremely small i.e. inverse lengthscales are extremely large (see below), so on each dimension the function is super wiggly, i.e. overfitting to the locations of each point\n",
    "    * In the last 5 dimensions though, it appears fine, and the two dimensions with the largest inverse show nice seperations "
   ]
  },
  {
   "cell_type": "code",
   "execution_count": 193,
   "metadata": {},
   "outputs": [
    {
     "data": {
      "text/html": [
       "&lt;test_gplvm.TestGPLVM object at 0x14c7009b0&gt;\n",
       "<table>\n",
       "<thead>\n",
       "<tr><th>name                                    </th><th>class    </th><th>transform       </th><th>prior  </th><th>trainable  </th><th>shape    </th><th>dtype  </th><th>value                                                 </th></tr>\n",
       "</thead>\n",
       "<tbody>\n",
       "<tr><td>TestGPLVM.kernel.kernels[0].variance    </td><td>Parameter</td><td>Softplus        </td><td>       </td><td>True       </td><td>()       </td><td>float64</td><td>3.9556915033003266e-08                                </td></tr>\n",
       "<tr><td>TestGPLVM.kernel.kernels[0].lengthscales</td><td>Parameter</td><td>Softplus        </td><td>       </td><td>True       </td><td>(5,)     </td><td>float64</td><td>[4.84534265e-16, 6.64351675e-38, 7.31009678e-05...    </td></tr>\n",
       "<tr><td>TestGPLVM.kernel.kernels[1].variance    </td><td>Parameter</td><td>Softplus        </td><td>       </td><td>True       </td><td>()       </td><td>float64</td><td>0.7364122472014499                                    </td></tr>\n",
       "<tr><td>TestGPLVM.kernel.kernels[1].lengthscales</td><td>Parameter</td><td>Softplus        </td><td>       </td><td>True       </td><td>(5,)     </td><td>float64</td><td>[571.61150055, 26.29390144, 3.34295296...             </td></tr>\n",
       "<tr><td>TestGPLVM.likelihood.variance           </td><td>Parameter</td><td>Softplus + Shift</td><td>       </td><td>True       </td><td>()       </td><td>float64</td><td>0.002854672940925118                                  </td></tr>\n",
       "<tr><td>TestGPLVM.X_data_mean                   </td><td>Parameter</td><td>                </td><td>       </td><td>True       </td><td>(100, 10)</td><td>float64</td><td>[[-2.35524207e-05, -3.95412836e-05, -1.34762312e-06...</td></tr>\n",
       "<tr><td>TestGPLVM.X_data_var                    </td><td>Parameter</td><td>Softplus        </td><td>       </td><td>True       </td><td>(100, 10)</td><td>float64</td><td>[[9.99753570e-01, 9.99661271e-01, 9.99741324e-01...   </td></tr>\n",
       "<tr><td>TestGPLVM.inducing_variable.Z           </td><td>Parameter</td><td>                </td><td>       </td><td>True       </td><td>(50, 10) </td><td>float64</td><td>[[4.16409760e+00, -4.07662219e+01, 3.52485819e+01...  </td></tr>\n",
       "</tbody>\n",
       "</table>"
      ],
      "text/plain": [
       "<test_gplvm.TestGPLVM object at 0x14c7009b0>\n",
       "╒══════════════════════════════════════════╤═══════════╤══════════════════╤═════════╤═════════════╤═══════════╤═════════╤════════════════════════════════════════════════════════╕\n",
       "│ name                                     │ class     │ transform        │ prior   │ trainable   │ shape     │ dtype   │ value                                                  │\n",
       "╞══════════════════════════════════════════╪═══════════╪══════════════════╪═════════╪═════════════╪═══════════╪═════════╪════════════════════════════════════════════════════════╡\n",
       "│ TestGPLVM.kernel.kernels[0].variance     │ Parameter │ Softplus         │         │ True        │ ()        │ float64 │ 3.9556915033003266e-08                                 │\n",
       "├──────────────────────────────────────────┼───────────┼──────────────────┼─────────┼─────────────┼───────────┼─────────┼────────────────────────────────────────────────────────┤\n",
       "│ TestGPLVM.kernel.kernels[0].lengthscales │ Parameter │ Softplus         │         │ True        │ (5,)      │ float64 │ [4.84534265e-16, 6.64351675e-38, 7.31009678e-05...     │\n",
       "├──────────────────────────────────────────┼───────────┼──────────────────┼─────────┼─────────────┼───────────┼─────────┼────────────────────────────────────────────────────────┤\n",
       "│ TestGPLVM.kernel.kernels[1].variance     │ Parameter │ Softplus         │         │ True        │ ()        │ float64 │ 0.7364122472014499                                     │\n",
       "├──────────────────────────────────────────┼───────────┼──────────────────┼─────────┼─────────────┼───────────┼─────────┼────────────────────────────────────────────────────────┤\n",
       "│ TestGPLVM.kernel.kernels[1].lengthscales │ Parameter │ Softplus         │         │ True        │ (5,)      │ float64 │ [571.61150055, 26.29390144, 3.34295296...              │\n",
       "├──────────────────────────────────────────┼───────────┼──────────────────┼─────────┼─────────────┼───────────┼─────────┼────────────────────────────────────────────────────────┤\n",
       "│ TestGPLVM.likelihood.variance            │ Parameter │ Softplus + Shift │         │ True        │ ()        │ float64 │ 0.002854672940925118                                   │\n",
       "├──────────────────────────────────────────┼───────────┼──────────────────┼─────────┼─────────────┼───────────┼─────────┼────────────────────────────────────────────────────────┤\n",
       "│ TestGPLVM.X_data_mean                    │ Parameter │                  │         │ True        │ (100, 10) │ float64 │ [[-2.35524207e-05, -3.95412836e-05, -1.34762312e-06... │\n",
       "├──────────────────────────────────────────┼───────────┼──────────────────┼─────────┼─────────────┼───────────┼─────────┼────────────────────────────────────────────────────────┤\n",
       "│ TestGPLVM.X_data_var                     │ Parameter │ Softplus         │         │ True        │ (100, 10) │ float64 │ [[9.99753570e-01, 9.99661271e-01, 9.99741324e-01...    │\n",
       "├──────────────────────────────────────────┼───────────┼──────────────────┼─────────┼─────────────┼───────────┼─────────┼────────────────────────────────────────────────────────┤\n",
       "│ TestGPLVM.inducing_variable.Z            │ Parameter │                  │         │ True        │ (50, 10)  │ float64 │ [[4.16409760e+00, -4.07662219e+01, 3.52485819e+01...   │\n",
       "╘══════════════════════════════════════════╧═══════════╧══════════════════╧═════════╧═════════════╧═══════════╧═════════╧════════════════════════════════════════════════════════╛"
      ]
     },
     "execution_count": 193,
     "metadata": {},
     "output_type": "execute_result"
    }
   ],
   "source": [
    "test_gplvm"
   ]
  },
  {
   "cell_type": "code",
   "execution_count": 249,
   "metadata": {},
   "outputs": [
    {
     "data": {
      "text/plain": [
       "<gpflow.Parameter 'Variable:0' dtype=float64 unconstrained-shape=(5,) unconstrained-value=[ -35.26334352  -85.60459208   -9.5236324   -52.45039755 -173.24631694] constrained-shape=(5,) constrained-value=[4.84534265e-16 6.64351675e-38 7.31009678e-05 1.66372587e-23\n",
       " 5.75546664e-76]>"
      ]
     },
     "execution_count": 249,
     "metadata": {},
     "output_type": "execute_result"
    }
   ],
   "source": [
    "test_gplvm.kernel.kernels[0].lengthscales"
   ]
  },
  {
   "cell_type": "code",
   "execution_count": 242,
   "metadata": {},
   "outputs": [
    {
     "data": {
      "text/plain": [
       "Text(0, 0.5, 'inverse lengthscale')"
      ]
     },
     "execution_count": 242,
     "metadata": {},
     "output_type": "execute_result"
    },
    {
     "data": {
      "image/png": "[encoded data removed]",
      "text/plain": [
       "<Figure size 720x360 with 2 Axes>"
      ]
     },
     "metadata": {
      "needs_background": "light"
     },
     "output_type": "display_data"
    }
   ],
   "source": [
    "fig, axs = plt.subplots(1, 2, figsize=(10, 5)) \n",
    "axs = axs.flatten()\n",
    "\n",
    "axs[0].bar(np.arange(1, 6), 1 / test_gplvm.kernel.kernels[0].lengthscales.numpy(), label='kernel 1')\n",
    "axs[0].legend()\n",
    "axs[0].set_xlabel('dimension')\n",
    "axs[0].set_ylabel('inverse lengthscale')\n",
    "\n",
    "axs[1].bar(np.arange(6, 11), 1 / test_gplvm.kernel.kernels[1].lengthscales.numpy(), label='kernel 2')\n",
    "axs[1].legend()\n",
    "axs[1].set_xlabel('dimension')\n",
    "axs[1].set_ylabel('inverse lengthscale')"
   ]
  },
  {
   "cell_type": "code",
   "execution_count": 201,
   "metadata": {},
   "outputs": [
    {
     "data": {
      "image/png": "[encoded data removed]",
      "text/plain": [
       "<Figure size 432x432 with 1 Axes>"
      ]
     },
     "metadata": {
      "needs_background": "light"
     },
     "output_type": "display_data"
    }
   ],
   "source": [
    "test_X_mean = test_gplvm.X_data_mean.numpy()\n",
    "\n",
    "plt.figure(figsize=(6, 6))\n",
    "\n",
    "for i in np.unique(labels):\n",
    "    plt.scatter(test_X_mean[labels == i, 8], test_X_mean[labels == i, 7], label=i)"
   ]
  },
  {
   "cell_type": "markdown",
   "metadata": {},
   "source": [
    "#### Experiment 2\n",
    "* Setting\n",
    "    * Same as Exp 1, except M = 20\n",
    "* Result\n",
    "    * Converges at ELBO = -104, 4 mins\n",
    "    * Same overfitting problem as Exp 1, less clear separation but still decent"
   ]
  },
  {
   "cell_type": "code",
   "execution_count": 8,
   "metadata": {},
   "outputs": [
    {
     "data": {
      "text/html": [
       "&lt;test_gplvm.TestGPLVM object at 0x14570e2e8&gt;\n",
       "<table>\n",
       "<thead>\n",
       "<tr><th>name                                    </th><th>class    </th><th>transform       </th><th>prior  </th><th>trainable  </th><th>shape    </th><th>dtype  </th><th>value                                                </th></tr>\n",
       "</thead>\n",
       "<tbody>\n",
       "<tr><td>TestGPLVM.kernel.kernels[0].variance    </td><td>Parameter</td><td>Softplus        </td><td>       </td><td>True       </td><td>()       </td><td>float64</td><td>6.756189860452263e-47                                </td></tr>\n",
       "<tr><td>TestGPLVM.kernel.kernels[0].lengthscales</td><td>Parameter</td><td>Softplus        </td><td>       </td><td>True       </td><td>(5,)     </td><td>float64</td><td>[3.00814795e-30, 9.21436531e-13, 1.43225271e-42...   </td></tr>\n",
       "<tr><td>TestGPLVM.kernel.kernels[1].variance    </td><td>Parameter</td><td>Softplus        </td><td>       </td><td>True       </td><td>()       </td><td>float64</td><td>1.421859411534228                                    </td></tr>\n",
       "<tr><td>TestGPLVM.kernel.kernels[1].lengthscales</td><td>Parameter</td><td>Softplus        </td><td>       </td><td>True       </td><td>(5,)     </td><td>float64</td><td>[284.50578737, 22.60906808, 4.86421807...            </td></tr>\n",
       "<tr><td>TestGPLVM.likelihood.variance           </td><td>Parameter</td><td>Softplus + Shift</td><td>       </td><td>True       </td><td>()       </td><td>float64</td><td>0.004433872560883006                                 </td></tr>\n",
       "<tr><td>TestGPLVM.X_data_mean                   </td><td>Parameter</td><td>                </td><td>       </td><td>True       </td><td>(100, 10)</td><td>float64</td><td>[[-8.44460374e-05, -2.66687669e-05, 1.29481708e-04...</td></tr>\n",
       "<tr><td>TestGPLVM.X_data_var                    </td><td>Parameter</td><td>Softplus        </td><td>       </td><td>True       </td><td>(100, 10)</td><td>float64</td><td>[[1.00296106e+00, 1.00349413e+00, 1.00307538e+00...  </td></tr>\n",
       "<tr><td>TestGPLVM.inducing_variable.Z           </td><td>Parameter</td><td>                </td><td>       </td><td>True       </td><td>(20, 10) </td><td>float64</td><td>[[2.89635071e+01, 2.81039334e+01, 3.87516816e+01...  </td></tr>\n",
       "</tbody>\n",
       "</table>"
      ],
      "text/plain": [
       "<test_gplvm.TestGPLVM object at 0x14570e2e8>\n",
       "╒══════════════════════════════════════════╤═══════════╤══════════════════╤═════════╤═════════════╤═══════════╤═════════╤═══════════════════════════════════════════════════════╕\n",
       "│ name                                     │ class     │ transform        │ prior   │ trainable   │ shape     │ dtype   │ value                                                 │\n",
       "╞══════════════════════════════════════════╪═══════════╪══════════════════╪═════════╪═════════════╪═══════════╪═════════╪═══════════════════════════════════════════════════════╡\n",
       "│ TestGPLVM.kernel.kernels[0].variance     │ Parameter │ Softplus         │         │ True        │ ()        │ float64 │ 6.756189860452263e-47                                 │\n",
       "├──────────────────────────────────────────┼───────────┼──────────────────┼─────────┼─────────────┼───────────┼─────────┼───────────────────────────────────────────────────────┤\n",
       "│ TestGPLVM.kernel.kernels[0].lengthscales │ Parameter │ Softplus         │         │ True        │ (5,)      │ float64 │ [3.00814795e-30, 9.21436531e-13, 1.43225271e-42...    │\n",
       "├──────────────────────────────────────────┼───────────┼──────────────────┼─────────┼─────────────┼───────────┼─────────┼───────────────────────────────────────────────────────┤\n",
       "│ TestGPLVM.kernel.kernels[1].variance     │ Parameter │ Softplus         │         │ True        │ ()        │ float64 │ 1.421859411534228                                     │\n",
       "├──────────────────────────────────────────┼───────────┼──────────────────┼─────────┼─────────────┼───────────┼─────────┼───────────────────────────────────────────────────────┤\n",
       "│ TestGPLVM.kernel.kernels[1].lengthscales │ Parameter │ Softplus         │         │ True        │ (5,)      │ float64 │ [284.50578737, 22.60906808, 4.86421807...             │\n",
       "├──────────────────────────────────────────┼───────────┼──────────────────┼─────────┼─────────────┼───────────┼─────────┼───────────────────────────────────────────────────────┤\n",
       "│ TestGPLVM.likelihood.variance            │ Parameter │ Softplus + Shift │         │ True        │ ()        │ float64 │ 0.004433872560883006                                  │\n",
       "├──────────────────────────────────────────┼───────────┼──────────────────┼─────────┼─────────────┼───────────┼─────────┼───────────────────────────────────────────────────────┤\n",
       "│ TestGPLVM.X_data_mean                    │ Parameter │                  │         │ True        │ (100, 10) │ float64 │ [[-8.44460374e-05, -2.66687669e-05, 1.29481708e-04... │\n",
       "├──────────────────────────────────────────┼───────────┼──────────────────┼─────────┼─────────────┼───────────┼─────────┼───────────────────────────────────────────────────────┤\n",
       "│ TestGPLVM.X_data_var                     │ Parameter │ Softplus         │         │ True        │ (100, 10) │ float64 │ [[1.00296106e+00, 1.00349413e+00, 1.00307538e+00...   │\n",
       "├──────────────────────────────────────────┼───────────┼──────────────────┼─────────┼─────────────┼───────────┼─────────┼───────────────────────────────────────────────────────┤\n",
       "│ TestGPLVM.inducing_variable.Z            │ Parameter │                  │         │ True        │ (20, 10)  │ float64 │ [[2.89635071e+01, 2.81039334e+01, 3.87516816e+01...   │\n",
       "╘══════════════════════════════════════════╧═══════════╧══════════════════╧═════════╧═════════════╧═══════════╧═════════╧═══════════════════════════════════════════════════════╛"
      ]
     },
     "execution_count": 8,
     "metadata": {},
     "output_type": "execute_result"
    }
   ],
   "source": [
    "test_gplvm"
   ]
  },
  {
   "cell_type": "code",
   "execution_count": 17,
   "metadata": {},
   "outputs": [
    {
     "data": {
      "text/plain": [
       "array([3.00814795e-30, 9.21436531e-13, 1.43225271e-42, 8.29122620e-26,\n",
       "       6.17990579e-56])"
      ]
     },
     "execution_count": 17,
     "metadata": {},
     "output_type": "execute_result"
    }
   ],
   "source": [
    "test_gplvm.kernel.kernels[0].lengthscales.numpy()"
   ]
  },
  {
   "cell_type": "code",
   "execution_count": 9,
   "metadata": {},
   "outputs": [
    {
     "data": {
      "text/plain": [
       "Text(0, 0.5, 'inverse lengthscale')"
      ]
     },
     "execution_count": 9,
     "metadata": {},
     "output_type": "execute_result"
    },
    {
     "data": {
      "image/png": "[encoded data removed]",
      "text/plain": [
       "<Figure size 720x360 with 2 Axes>"
      ]
     },
     "metadata": {
      "needs_background": "light"
     },
     "output_type": "display_data"
    }
   ],
   "source": [
    "fig, axs = plt.subplots(1, 2, figsize=(10, 5)) \n",
    "axs = axs.flatten()\n",
    "\n",
    "axs[0].bar(np.arange(1, 6), 1 / test_gplvm.kernel.kernels[0].lengthscales.numpy(), label='kernel 1')\n",
    "axs[0].legend()\n",
    "axs[0].set_xlabel('dimension')\n",
    "axs[0].set_ylabel('inverse lengthscale')\n",
    "\n",
    "axs[1].bar(np.arange(6, 11), 1 / test_gplvm.kernel.kernels[1].lengthscales.numpy(), label='kernel 2')\n",
    "axs[1].legend()\n",
    "axs[1].set_xlabel('dimension')\n",
    "axs[1].set_ylabel('inverse lengthscale')"
   ]
  },
  {
   "cell_type": "code",
   "execution_count": 15,
   "metadata": {},
   "outputs": [
    {
     "data": {
      "image/png": "[encoded data removed]",
      "text/plain": [
       "<Figure size 720x360 with 2 Axes>"
      ]
     },
     "metadata": {
      "needs_background": "light"
     },
     "output_type": "display_data"
    }
   ],
   "source": [
    "fig, axs = plt.subplots(1, 2, figsize=(10, 5))\n",
    "\n",
    "test_X_mean = test_gplvm.X_data_mean.numpy()\n",
    "top_idx1 = np.argsort(test_gplvm.kernel.kernels[0].lengthscales.numpy())\n",
    "top_idx2 = np.argsort(test_gplvm.kernel.kernels[1].lengthscales.numpy()) + 5\n",
    "\n",
    "for i in np.unique(labels):\n",
    "    axs[0].scatter(test_X_mean[labels == i, top_idx1[0]], test_X_mean[labels == i, top_idx1[1]], label=i)\n",
    "    axs[0].set_title(\"Dimension 1-5\")\n",
    "    axs[1].scatter(test_X_mean[labels == i, top_idx2[0]], test_X_mean[labels == i, top_idx2[1]], label=i)\n",
    "    axs[1].set_title(\"Dimension 6-10\")"
   ]
  },
  {
   "cell_type": "markdown",
   "metadata": {},
   "source": [
    "### Split-GPLVM"
   ]
  },
  {
   "cell_type": "code",
   "execution_count": 14,
   "metadata": {},
   "outputs": [],
   "source": [
    "np.random.seed(1)\n",
    "\n",
    "m1 = init_split_gplvm(\n",
    "    Y,\n",
    "    split_space=True,\n",
    "    Qs=5,\n",
    "    Qp=5,\n",
    "    M=20,\n",
    "    K=1\n",
    ")\n",
    "\n",
    "m2 = init_split_gplvm(\n",
    "    Y,\n",
    "    split_space=True,\n",
    "    Qs=5,\n",
    "    Qp=5,\n",
    "    M=20,\n",
    "    K=3\n",
    ")"
   ]
  },
  {
   "cell_type": "code",
   "execution_count": 22,
   "metadata": {},
   "outputs": [],
   "source": [
    "m3 = init_split_gplvm(\n",
    "    Y,\n",
    "    split_space=True,\n",
    "    Qs=5,\n",
    "    Qp=5,\n",
    "    M=20,\n",
    "    K=1\n",
    ")"
   ]
  },
  {
   "cell_type": "code",
   "execution_count": 17,
   "metadata": {
    "scrolled": true
   },
   "outputs": [
    {
     "name": "stdout",
     "output_type": "stream",
     "text": [
      "step 0 elbo: -2549.9462574357785\n",
      "step 1 elbo: -2063.441398085919\n",
      "step 2 elbo: -2007.3995197514496\n",
      "step 3 elbo: -1917.3254982904093\n",
      "step 4 elbo: -1764.778250460791\n",
      "step 5 elbo: -1123.542490508051\n",
      "step 6 elbo: -1076.9854937373982\n",
      "step 7 elbo: -1059.2126753424993\n",
      "step 8 elbo: -1032.2693060714182\n",
      "step 9 elbo: -1018.7576017367883\n",
      "step 10 elbo: -1009.9159363348679\n",
      "step 11 elbo: -1006.2971133223233\n",
      "step 12 elbo: -1002.1324760359726\n",
      "step 13 elbo: -1000.967435005824\n",
      "step 14 elbo: -999.837535194224\n",
      "step 15 elbo: -998.4583756912087\n",
      "step 16 elbo: -996.833198811009\n",
      "step 17 elbo: -994.7263998502407\n",
      "step 18 elbo: -992.4733169742162\n",
      "step 19 elbo: -990.7907266733184\n",
      "step 20 elbo: -989.6754780276422\n",
      "step 21 elbo: -988.0171605895144\n",
      "step 22 elbo: -986.3850726034618\n",
      "step 23 elbo: -984.4556401680557\n",
      "step 24 elbo: -983.5115679034151\n",
      "step 25 elbo: -981.9410298916704\n",
      "step 26 elbo: -979.7895465670356\n",
      "step 27 elbo: -977.3611313895233\n",
      "step 28 elbo: -975.8746119809892\n",
      "step 29 elbo: -974.4050136053282\n",
      "step 30 elbo: -972.179711585323\n",
      "step 31 elbo: -969.6888118774826\n",
      "step 32 elbo: -969.0322456020444\n",
      "step 33 elbo: -967.8375126679539\n",
      "step 34 elbo: -966.0413902526234\n",
      "step 35 elbo: -963.0145247596793\n",
      "step 36 elbo: -958.9555470095257\n",
      "step 37 elbo: -956.518036993458\n",
      "step 38 elbo: -954.0234179565065\n",
      "step 39 elbo: -952.0224366405437\n",
      "step 40 elbo: -949.8417254668406\n",
      "step 41 elbo: -946.9943871431022\n",
      "step 42 elbo: -944.8646053538099\n",
      "step 43 elbo: -942.7156515896866\n",
      "step 44 elbo: -940.6848294141745\n",
      "step 45 elbo: -938.2855838964276\n",
      "step 46 elbo: -936.2900024035578\n",
      "step 47 elbo: -933.6504373115504\n",
      "step 48 elbo: -930.284205747243\n",
      "step 49 elbo: -927.6104108937807\n",
      "step 50 elbo: -924.9165473385431\n",
      "step 51 elbo: -922.9260230450193\n",
      "step 52 elbo: -920.2315392531527\n",
      "step 53 elbo: -917.2783355533146\n",
      "step 54 elbo: -915.0027166808966\n",
      "step 55 elbo: -912.5554056218555\n",
      "step 56 elbo: -909.419120906435\n",
      "step 57 elbo: -905.213106732933\n",
      "step 58 elbo: -902.0014470810893\n",
      "step 59 elbo: -899.7334336243464\n",
      "step 60 elbo: -896.4755683465949\n",
      "step 61 elbo: -892.214640062408\n",
      "step 62 elbo: -886.7250357960154\n",
      "step 63 elbo: -881.0564534828047\n",
      "step 64 elbo: -878.6400676411686\n",
      "step 65 elbo: -875.1099627968895\n",
      "step 66 elbo: -871.0015611046227\n",
      "step 67 elbo: -867.2844535425013\n",
      "step 68 elbo: -862.2688355672386\n",
      "step 69 elbo: -860.2082929492344\n",
      "step 70 elbo: -859.0710334742466\n",
      "step 71 elbo: -857.2226226022377\n",
      "step 72 elbo: -854.2867430898979\n",
      "step 73 elbo: -849.6622094000504\n",
      "step 74 elbo: -844.4540516313717\n",
      "step 75 elbo: -840.3387362137059\n",
      "step 76 elbo: -839.2430053520479\n",
      "step 77 elbo: -837.2930787323868\n",
      "step 78 elbo: -833.8710979531874\n",
      "step 79 elbo: -829.2841455462856\n",
      "step 80 elbo: -824.0831637367712\n",
      "step 81 elbo: -822.2638784261079\n",
      "step 82 elbo: -819.2365741391686\n",
      "step 83 elbo: -815.2352531319798\n",
      "step 84 elbo: -810.0257375105704\n",
      "step 85 elbo: -806.9815468139323\n",
      "step 86 elbo: -803.7983571495455\n",
      "step 87 elbo: -800.5364028461028\n",
      "step 88 elbo: -797.5160027887039\n",
      "step 89 elbo: -795.6429225667827\n",
      "step 90 elbo: -793.169709862252\n",
      "step 91 elbo: -790.2423291192329\n",
      "step 92 elbo: -789.0264178069896\n",
      "step 93 elbo: -787.4715283831337\n",
      "step 94 elbo: -785.4237957757433\n",
      "step 95 elbo: -783.6317108540345\n",
      "step 96 elbo: -782.3261077425082\n",
      "step 97 elbo: -780.636298787523\n",
      "step 98 elbo: -779.0363328491567\n",
      "step 99 elbo: -778.2923318139714\n",
      "step 100 elbo: -777.2792650371425\n",
      "step 101 elbo: -775.9530662759666\n",
      "step 102 elbo: -774.5071041360868\n",
      "step 103 elbo: -773.4007319835675\n",
      "step 104 elbo: -772.4648877867097\n",
      "step 105 elbo: -772.2152181739917\n",
      "step 106 elbo: -771.8323308377746\n",
      "step 107 elbo: -771.2621807424399\n",
      "step 108 elbo: -770.6498890220503\n",
      "step 109 elbo: -770.1726234570219\n",
      "step 110 elbo: -769.4969558299073\n",
      "step 111 elbo: -769.0905993022586\n",
      "step 112 elbo: -768.5482471303266\n",
      "step 113 elbo: -768.0789701787551\n",
      "step 114 elbo: -767.4713386425256\n",
      "step 115 elbo: -766.92410029282\n",
      "step 116 elbo: -766.7976535999975\n",
      "step 117 elbo: -766.5751372175027\n",
      "step 118 elbo: -766.2259683810004\n",
      "step 119 elbo: -765.8896825682806\n",
      "step 120 elbo: -765.4261645512333\n",
      "step 121 elbo: -765.2093786666351\n",
      "step 122 elbo: -764.8444042282292\n",
      "step 123 elbo: -764.589468939915\n",
      "step 124 elbo: -764.2323467201669\n",
      "step 125 elbo: -763.7370749402921\n",
      "step 126 elbo: -763.5094408516454\n",
      "step 127 elbo: -763.1454445253712\n",
      "step 128 elbo: -762.6684481935622\n",
      "step 129 elbo: -762.43082240151\n",
      "step 130 elbo: -762.043681774274\n",
      "step 131 elbo: -761.5414155146501\n",
      "step 132 elbo: -761.2960500434052\n",
      "step 133 elbo: -760.8896640452682\n",
      "step 134 elbo: -760.3095783453705\n",
      "step 135 elbo: -760.1142178367721\n",
      "step 136 elbo: -759.8172395917504\n",
      "step 137 elbo: -759.3735482654616\n",
      "step 138 elbo: -759.023253246053\n",
      "step 139 elbo: -758.5508106622218\n",
      "step 140 elbo: -758.1922178185079\n",
      "step 141 elbo: -757.8526593463423\n",
      "step 142 elbo: -757.6329885475014\n",
      "step 143 elbo: -757.3624054509288\n",
      "step 144 elbo: -757.0866631866182\n",
      "step 145 elbo: -756.9480821367529\n",
      "step 146 elbo: -756.7510138729044\n",
      "step 147 elbo: -756.6216320670108\n",
      "step 148 elbo: -756.472724258278\n",
      "step 149 elbo: -756.3366174831905\n",
      "step 150 elbo: -756.1656266004877\n",
      "step 151 elbo: -756.0327039502093\n",
      "step 152 elbo: -755.880126968765\n",
      "step 153 elbo: -755.7165854853928\n",
      "step 154 elbo: -755.6379536344834\n",
      "step 155 elbo: -755.5268523917305\n",
      "step 156 elbo: -755.3965149986344\n",
      "step 157 elbo: -755.3076793222506\n",
      "step 158 elbo: -755.1758533349818\n",
      "step 159 elbo: -755.1100142518758\n",
      "step 160 elbo: -755.0170821291754\n",
      "step 161 elbo: -754.9139650544266\n",
      "step 162 elbo: -754.8621254127696\n"
     ]
    },
    {
     "ename": "KeyboardInterrupt",
     "evalue": "",
     "output_type": "error",
     "traceback": [
      "\u001b[0;31m---------------------------------------------------------------------------\u001b[0m",
      "\u001b[0;31mKeyboardInterrupt\u001b[0m                         Traceback (most recent call last)",
      "\u001b[0;32m<timed eval>\u001b[0m in \u001b[0;36m<module>\u001b[0;34m\u001b[0m\n",
      "\u001b[0;32m~/Documents/Projects/ipsc_gplvm/utils.py\u001b[0m in \u001b[0;36mtrain_scipy\u001b[0;34m(m, maxiter, step)\u001b[0m\n\u001b[1;32m    155\u001b[0m             \u001b[0moptions\u001b[0m\u001b[0;34m=\u001b[0m\u001b[0mdict\u001b[0m\u001b[0;34m(\u001b[0m\u001b[0mmaxiter\u001b[0m\u001b[0;34m=\u001b[0m\u001b[0mci_niter\u001b[0m\u001b[0;34m(\u001b[0m\u001b[0mmaxiter\u001b[0m\u001b[0;34m)\u001b[0m\u001b[0;34m,\u001b[0m \u001b[0mdisp\u001b[0m\u001b[0;34m=\u001b[0m\u001b[0;32mTrue\u001b[0m\u001b[0;34m)\u001b[0m\u001b[0;34m,\u001b[0m\u001b[0;34m\u001b[0m\u001b[0m\n\u001b[1;32m    156\u001b[0m             \u001b[0mstep_callback\u001b[0m\u001b[0;34m=\u001b[0m\u001b[0mstep_callback\u001b[0m\u001b[0;34m,\u001b[0m\u001b[0;34m\u001b[0m\u001b[0m\n\u001b[0;32m--> 157\u001b[0;31m             \u001b[0mcompile\u001b[0m\u001b[0;34m=\u001b[0m\u001b[0;32mTrue\u001b[0m\u001b[0;34m\u001b[0m\u001b[0m\n\u001b[0m\u001b[1;32m    158\u001b[0m         )\n\u001b[1;32m    159\u001b[0m     \u001b[0;32melse\u001b[0m\u001b[0;34m:\u001b[0m\u001b[0;34m\u001b[0m\u001b[0m\n",
      "\u001b[0;32m~/Documents/Projects/ipsc_gplvm/env/lib/python3.6/site-packages/gpflow/optimizers/scipy.py\u001b[0m in \u001b[0;36mminimize\u001b[0;34m(self, closure, variables, method, step_callback, compile, **scipy_kwargs)\u001b[0m\n\u001b[1;32m     73\u001b[0m \u001b[0;34m\u001b[0m\u001b[0m\n\u001b[1;32m     74\u001b[0m         return scipy.optimize.minimize(\n\u001b[0;32m---> 75\u001b[0;31m             \u001b[0mfunc\u001b[0m\u001b[0;34m,\u001b[0m \u001b[0minitial_params\u001b[0m\u001b[0;34m,\u001b[0m \u001b[0mjac\u001b[0m\u001b[0;34m=\u001b[0m\u001b[0;32mTrue\u001b[0m\u001b[0;34m,\u001b[0m \u001b[0mmethod\u001b[0m\u001b[0;34m=\u001b[0m\u001b[0mmethod\u001b[0m\u001b[0;34m,\u001b[0m \u001b[0;34m**\u001b[0m\u001b[0mscipy_kwargs\u001b[0m\u001b[0;34m\u001b[0m\u001b[0m\n\u001b[0m\u001b[1;32m     76\u001b[0m         )\n\u001b[1;32m     77\u001b[0m \u001b[0;34m\u001b[0m\u001b[0m\n",
      "\u001b[0;32m~/Documents/Projects/ipsc_gplvm/env/lib/python3.6/site-packages/scipy/optimize/_minimize.py\u001b[0m in \u001b[0;36mminimize\u001b[0;34m(fun, x0, args, method, jac, hess, hessp, bounds, constraints, tol, callback, options)\u001b[0m\n\u001b[1;32m    602\u001b[0m         \u001b[0;32mreturn\u001b[0m \u001b[0m_minimize_cg\u001b[0m\u001b[0;34m(\u001b[0m\u001b[0mfun\u001b[0m\u001b[0;34m,\u001b[0m \u001b[0mx0\u001b[0m\u001b[0;34m,\u001b[0m \u001b[0margs\u001b[0m\u001b[0;34m,\u001b[0m \u001b[0mjac\u001b[0m\u001b[0;34m,\u001b[0m \u001b[0mcallback\u001b[0m\u001b[0;34m,\u001b[0m \u001b[0;34m**\u001b[0m\u001b[0moptions\u001b[0m\u001b[0;34m)\u001b[0m\u001b[0;34m\u001b[0m\u001b[0m\n\u001b[1;32m    603\u001b[0m     \u001b[0;32melif\u001b[0m \u001b[0mmeth\u001b[0m \u001b[0;34m==\u001b[0m \u001b[0;34m'bfgs'\u001b[0m\u001b[0;34m:\u001b[0m\u001b[0;34m\u001b[0m\u001b[0m\n\u001b[0;32m--> 604\u001b[0;31m         \u001b[0;32mreturn\u001b[0m \u001b[0m_minimize_bfgs\u001b[0m\u001b[0;34m(\u001b[0m\u001b[0mfun\u001b[0m\u001b[0;34m,\u001b[0m \u001b[0mx0\u001b[0m\u001b[0;34m,\u001b[0m \u001b[0margs\u001b[0m\u001b[0;34m,\u001b[0m \u001b[0mjac\u001b[0m\u001b[0;34m,\u001b[0m \u001b[0mcallback\u001b[0m\u001b[0;34m,\u001b[0m \u001b[0;34m**\u001b[0m\u001b[0moptions\u001b[0m\u001b[0;34m)\u001b[0m\u001b[0;34m\u001b[0m\u001b[0m\n\u001b[0m\u001b[1;32m    605\u001b[0m     \u001b[0;32melif\u001b[0m \u001b[0mmeth\u001b[0m \u001b[0;34m==\u001b[0m \u001b[0;34m'newton-cg'\u001b[0m\u001b[0;34m:\u001b[0m\u001b[0;34m\u001b[0m\u001b[0m\n\u001b[1;32m    606\u001b[0m         return _minimize_newtoncg(fun, x0, args, jac, hess, hessp, callback,\n",
      "\u001b[0;32m~/Documents/Projects/ipsc_gplvm/env/lib/python3.6/site-packages/scipy/optimize/optimize.py\u001b[0m in \u001b[0;36m_minimize_bfgs\u001b[0;34m(fun, x0, args, jac, callback, gtol, norm, eps, maxiter, disp, return_all, **unknown_options)\u001b[0m\n\u001b[1;32m   1067\u001b[0m         \u001b[0mA1\u001b[0m \u001b[0;34m=\u001b[0m \u001b[0mI\u001b[0m \u001b[0;34m-\u001b[0m \u001b[0msk\u001b[0m\u001b[0;34m[\u001b[0m\u001b[0;34m:\u001b[0m\u001b[0;34m,\u001b[0m \u001b[0mnumpy\u001b[0m\u001b[0;34m.\u001b[0m\u001b[0mnewaxis\u001b[0m\u001b[0;34m]\u001b[0m \u001b[0;34m*\u001b[0m \u001b[0myk\u001b[0m\u001b[0;34m[\u001b[0m\u001b[0mnumpy\u001b[0m\u001b[0;34m.\u001b[0m\u001b[0mnewaxis\u001b[0m\u001b[0;34m,\u001b[0m \u001b[0;34m:\u001b[0m\u001b[0;34m]\u001b[0m \u001b[0;34m*\u001b[0m \u001b[0mrhok\u001b[0m\u001b[0;34m\u001b[0m\u001b[0m\n\u001b[1;32m   1068\u001b[0m         \u001b[0mA2\u001b[0m \u001b[0;34m=\u001b[0m \u001b[0mI\u001b[0m \u001b[0;34m-\u001b[0m \u001b[0myk\u001b[0m\u001b[0;34m[\u001b[0m\u001b[0;34m:\u001b[0m\u001b[0;34m,\u001b[0m \u001b[0mnumpy\u001b[0m\u001b[0;34m.\u001b[0m\u001b[0mnewaxis\u001b[0m\u001b[0;34m]\u001b[0m \u001b[0;34m*\u001b[0m \u001b[0msk\u001b[0m\u001b[0;34m[\u001b[0m\u001b[0mnumpy\u001b[0m\u001b[0;34m.\u001b[0m\u001b[0mnewaxis\u001b[0m\u001b[0;34m,\u001b[0m \u001b[0;34m:\u001b[0m\u001b[0;34m]\u001b[0m \u001b[0;34m*\u001b[0m \u001b[0mrhok\u001b[0m\u001b[0;34m\u001b[0m\u001b[0m\n\u001b[0;32m-> 1069\u001b[0;31m         Hk = numpy.dot(A1, numpy.dot(Hk, A2)) + (rhok * sk[:, numpy.newaxis] *\n\u001b[0m\u001b[1;32m   1070\u001b[0m                                                  sk[numpy.newaxis, :])\n\u001b[1;32m   1071\u001b[0m \u001b[0;34m\u001b[0m\u001b[0m\n",
      "\u001b[0;32m<__array_function__ internals>\u001b[0m in \u001b[0;36mdot\u001b[0;34m(*args, **kwargs)\u001b[0m\n",
      "\u001b[0;31mKeyboardInterrupt\u001b[0m: "
     ]
    }
   ],
   "source": [
    "%%time\n",
    "train_scipy(m1, 2000, True)"
   ]
  },
  {
   "cell_type": "code",
   "execution_count": 18,
   "metadata": {},
   "outputs": [
    {
     "data": {
      "text/html": [
       "&lt;split_gplvm.SplitGPLVM object at 0x15350e9b0&gt;\n",
       "<table>\n",
       "<thead>\n",
       "<tr><th>name                               </th><th>class    </th><th>transform       </th><th>prior  </th><th>trainable  </th><th>shape       </th><th>dtype  </th><th>value                                                 </th></tr>\n",
       "</thead>\n",
       "<tbody>\n",
       "<tr><td>SplitGPLVM.likelihood.variance     </td><td>Parameter</td><td>Softplus + Shift</td><td>       </td><td>True       </td><td>()          </td><td>float64</td><td>0.11601661655180003                                   </td></tr>\n",
       "<tr><td>SplitGPLVM.kernel_K[0].variance    </td><td>Parameter</td><td>Softplus        </td><td>       </td><td>True       </td><td>()          </td><td>float64</td><td>0.008087081135057147                                  </td></tr>\n",
       "<tr><td>SplitGPLVM.kernel_K[0].lengthscales</td><td>Parameter</td><td>Softplus        </td><td>       </td><td>True       </td><td>(5,)        </td><td>float64</td><td>[0.004594, 0.1102806, 0.03418879...                   </td></tr>\n",
       "<tr><td>SplitGPLVM.Xp_mean                 </td><td>Parameter</td><td>                </td><td>       </td><td>True       </td><td>(100, 5)    </td><td>float64</td><td>[[-2.14008771e-04, 4.05433019e-04, -5.35529865e-04... </td></tr>\n",
       "<tr><td>SplitGPLVM.Xp_var                  </td><td>Parameter</td><td>Softplus        </td><td>       </td><td>True       </td><td>(100, 5)    </td><td>float64</td><td>[[0.99999241, 1.00004385, 0.99994109...               </td></tr>\n",
       "<tr><td>SplitGPLVM.pi                      </td><td>Parameter</td><td>SoftmaxCentered </td><td>       </td><td>True       </td><td>(100, 1)    </td><td>float64</td><td>[[1....                                               </td></tr>\n",
       "<tr><td>SplitGPLVM.Zp.Z                    </td><td>Parameter</td><td>                </td><td>       </td><td>True       </td><td>(20, 5)     </td><td>float64</td><td>[[8.61294575e-01, -9.08636023e-01, -1.73378129e-01... </td></tr>\n",
       "<tr><td>SplitGPLVM.q_mu                    </td><td>Parameter</td><td>                </td><td>       </td><td>True       </td><td>(20, 12)    </td><td>float64</td><td>[[-1.62427457e-02, -2.99472596e-03, -6.94398035e-03...</td></tr>\n",
       "<tr><td>SplitGPLVM.q_sqrt                  </td><td>Parameter</td><td>FillTriangular  </td><td>       </td><td>True       </td><td>(12, 20, 20)</td><td>float64</td><td>[[[6.74625464e-01, 0.00000000e+00, 0.00000000e+00...  </td></tr>\n",
       "<tr><td>SplitGPLVM.kernel_s.variance       </td><td>Parameter</td><td>Softplus        </td><td>       </td><td>True       </td><td>()          </td><td>float64</td><td>0.01882121129649835                                   </td></tr>\n",
       "<tr><td>SplitGPLVM.kernel_s.lengthscales   </td><td>Parameter</td><td>Softplus        </td><td>       </td><td>True       </td><td>(5,)        </td><td>float64</td><td>[1.81942424, 7.40491313, 0.93705182...                </td></tr>\n",
       "<tr><td>SplitGPLVM.Xs_mean                 </td><td>Parameter</td><td>                </td><td>       </td><td>True       </td><td>(100, 5)    </td><td>float64</td><td>[[-1.11697330e+00, -1.38732292e-03, 1.35024539e+00... </td></tr>\n",
       "<tr><td>SplitGPLVM.Xs_var                  </td><td>Parameter</td><td>Softplus        </td><td>       </td><td>True       </td><td>(100, 5)    </td><td>float64</td><td>[[0.3265045, 1.02924462, 0.04463721...                </td></tr>\n",
       "<tr><td>SplitGPLVM.Zs.Z                    </td><td>Parameter</td><td>                </td><td>       </td><td>True       </td><td>(20, 5)     </td><td>float64</td><td>[[0.52862764, -1.91991249, -9.73928561...             </td></tr>\n",
       "</tbody>\n",
       "</table>"
      ],
      "text/plain": [
       "<split_gplvm.SplitGPLVM object at 0x15350e9b0>\n",
       "╒═════════════════════════════════════╤═══════════╤══════════════════╤═════════╤═════════════╤══════════════╤═════════╤════════════════════════════════════════════════════════╕\n",
       "│ name                                │ class     │ transform        │ prior   │ trainable   │ shape        │ dtype   │ value                                                  │\n",
       "╞═════════════════════════════════════╪═══════════╪══════════════════╪═════════╪═════════════╪══════════════╪═════════╪════════════════════════════════════════════════════════╡\n",
       "│ SplitGPLVM.likelihood.variance      │ Parameter │ Softplus + Shift │         │ True        │ ()           │ float64 │ 0.11601661655180003                                    │\n",
       "├─────────────────────────────────────┼───────────┼──────────────────┼─────────┼─────────────┼──────────────┼─────────┼────────────────────────────────────────────────────────┤\n",
       "│ SplitGPLVM.kernel_K[0].variance     │ Parameter │ Softplus         │         │ True        │ ()           │ float64 │ 0.008087081135057147                                   │\n",
       "├─────────────────────────────────────┼───────────┼──────────────────┼─────────┼─────────────┼──────────────┼─────────┼────────────────────────────────────────────────────────┤\n",
       "│ SplitGPLVM.kernel_K[0].lengthscales │ Parameter │ Softplus         │         │ True        │ (5,)         │ float64 │ [0.004594, 0.1102806, 0.03418879...                    │\n",
       "├─────────────────────────────────────┼───────────┼──────────────────┼─────────┼─────────────┼──────────────┼─────────┼────────────────────────────────────────────────────────┤\n",
       "│ SplitGPLVM.Xp_mean                  │ Parameter │                  │         │ True        │ (100, 5)     │ float64 │ [[-2.14008771e-04, 4.05433019e-04, -5.35529865e-04...  │\n",
       "├─────────────────────────────────────┼───────────┼──────────────────┼─────────┼─────────────┼──────────────┼─────────┼────────────────────────────────────────────────────────┤\n",
       "│ SplitGPLVM.Xp_var                   │ Parameter │ Softplus         │         │ True        │ (100, 5)     │ float64 │ [[0.99999241, 1.00004385, 0.99994109...                │\n",
       "├─────────────────────────────────────┼───────────┼──────────────────┼─────────┼─────────────┼──────────────┼─────────┼────────────────────────────────────────────────────────┤\n",
       "│ SplitGPLVM.pi                       │ Parameter │ SoftmaxCentered  │         │ True        │ (100, 1)     │ float64 │ [[1....                                                │\n",
       "├─────────────────────────────────────┼───────────┼──────────────────┼─────────┼─────────────┼──────────────┼─────────┼────────────────────────────────────────────────────────┤\n",
       "│ SplitGPLVM.Zp.Z                     │ Parameter │                  │         │ True        │ (20, 5)      │ float64 │ [[8.61294575e-01, -9.08636023e-01, -1.73378129e-01...  │\n",
       "├─────────────────────────────────────┼───────────┼──────────────────┼─────────┼─────────────┼──────────────┼─────────┼────────────────────────────────────────────────────────┤\n",
       "│ SplitGPLVM.q_mu                     │ Parameter │                  │         │ True        │ (20, 12)     │ float64 │ [[-1.62427457e-02, -2.99472596e-03, -6.94398035e-03... │\n",
       "├─────────────────────────────────────┼───────────┼──────────────────┼─────────┼─────────────┼──────────────┼─────────┼────────────────────────────────────────────────────────┤\n",
       "│ SplitGPLVM.q_sqrt                   │ Parameter │ FillTriangular   │         │ True        │ (12, 20, 20) │ float64 │ [[[6.74625464e-01, 0.00000000e+00, 0.00000000e+00...   │\n",
       "├─────────────────────────────────────┼───────────┼──────────────────┼─────────┼─────────────┼──────────────┼─────────┼────────────────────────────────────────────────────────┤\n",
       "│ SplitGPLVM.kernel_s.variance        │ Parameter │ Softplus         │         │ True        │ ()           │ float64 │ 0.01882121129649835                                    │\n",
       "├─────────────────────────────────────┼───────────┼──────────────────┼─────────┼─────────────┼──────────────┼─────────┼────────────────────────────────────────────────────────┤\n",
       "│ SplitGPLVM.kernel_s.lengthscales    │ Parameter │ Softplus         │         │ True        │ (5,)         │ float64 │ [1.81942424, 7.40491313, 0.93705182...                 │\n",
       "├─────────────────────────────────────┼───────────┼──────────────────┼─────────┼─────────────┼──────────────┼─────────┼────────────────────────────────────────────────────────┤\n",
       "│ SplitGPLVM.Xs_mean                  │ Parameter │                  │         │ True        │ (100, 5)     │ float64 │ [[-1.11697330e+00, -1.38732292e-03, 1.35024539e+00...  │\n",
       "├─────────────────────────────────────┼───────────┼──────────────────┼─────────┼─────────────┼──────────────┼─────────┼────────────────────────────────────────────────────────┤\n",
       "│ SplitGPLVM.Xs_var                   │ Parameter │ Softplus         │         │ True        │ (100, 5)     │ float64 │ [[0.3265045, 1.02924462, 0.04463721...                 │\n",
       "├─────────────────────────────────────┼───────────┼──────────────────┼─────────┼─────────────┼──────────────┼─────────┼────────────────────────────────────────────────────────┤\n",
       "│ SplitGPLVM.Zs.Z                     │ Parameter │                  │         │ True        │ (20, 5)      │ float64 │ [[0.52862764, -1.91991249, -9.73928561...              │\n",
       "╘═════════════════════════════════════╧═══════════╧══════════════════╧═════════╧═════════════╧══════════════╧═════════╧════════════════════════════════════════════════════════╛"
      ]
     },
     "execution_count": 18,
     "metadata": {},
     "output_type": "execute_result"
    }
   ],
   "source": [
    "m1"
   ]
  },
  {
   "cell_type": "code",
   "execution_count": 23,
   "metadata": {
    "scrolled": true
   },
   "outputs": [
    {
     "name": "stdout",
     "output_type": "stream",
     "text": [
      "initial elbo -3273.3255\n",
      "iteration 10 elbo -2801.1983, took 0.0262s\n",
      "iteration 20 elbo -2620.4050, took 0.0491s\n",
      "iteration 30 elbo -2480.5554, took 0.0253s\n",
      "iteration 40 elbo -2368.8989, took 0.0283s\n",
      "iteration 50 elbo -2277.3641, took 0.0240s\n",
      "iteration 60 elbo -2203.5441, took 0.0229s\n",
      "iteration 70 elbo -2143.8085, took 0.0258s\n",
      "iteration 80 elbo -2094.2826, took 0.0245s\n",
      "iteration 90 elbo -2052.1939, took 0.0227s\n",
      "iteration 100 elbo -2015.4343, took 0.0228s\n",
      "iteration 110 elbo -1982.6337, took 0.0240s\n",
      "iteration 120 elbo -1952.9435, took 0.0243s\n",
      "iteration 130 elbo -1925.7406, took 0.0246s\n",
      "iteration 140 elbo -1900.4897, took 0.0249s\n",
      "iteration 150 elbo -1876.7351, took 0.0256s\n",
      "iteration 160 elbo -1854.0975, took 0.0250s\n",
      "iteration 170 elbo -1832.2715, took 0.0258s\n",
      "iteration 180 elbo -1811.0227, took 0.0284s\n",
      "iteration 190 elbo -1790.1825, took 0.0267s\n",
      "iteration 200 elbo -1769.6319, took 0.0282s\n",
      "iteration 210 elbo -1749.2664, took 0.0289s\n",
      "iteration 220 elbo -1728.9717, took 0.0405s\n",
      "iteration 230 elbo -1708.6329, took 0.0355s\n",
      "iteration 240 elbo -1688.1517, took 0.0385s\n",
      "iteration 250 elbo -1667.4516, took 0.0253s\n",
      "iteration 260 elbo -1646.4752, took 0.0255s\n",
      "iteration 270 elbo -1625.1815, took 0.0339s\n",
      "iteration 280 elbo -1603.5463, took 0.0250s\n",
      "iteration 290 elbo -1581.5632, took 0.0268s\n",
      "iteration 300 elbo -1559.2459, took 0.0361s\n",
      "iteration 310 elbo -1536.6300, took 0.0393s\n",
      "iteration 320 elbo -1513.7744, took 0.0337s\n",
      "iteration 330 elbo -1490.7608, took 0.0262s\n",
      "iteration 340 elbo -1467.6914, took 0.0234s\n",
      "iteration 350 elbo -1444.6841, took 0.0488s\n",
      "iteration 360 elbo -1421.8630, took 0.0261s\n",
      "iteration 370 elbo -1399.3393, took 0.0256s\n",
      "iteration 380 elbo -1377.1959, took 0.0292s\n",
      "iteration 390 elbo -1355.4924, took 0.0259s\n",
      "iteration 400 elbo -1334.2944, took 0.0265s\n",
      "iteration 410 elbo -1313.7019, took 0.0255s\n",
      "iteration 420 elbo -1293.8284, took 0.0260s\n",
      "iteration 430 elbo -1274.7427, took 0.0242s\n",
      "iteration 440 elbo -1256.4616, took 0.0253s\n",
      "iteration 450 elbo -1238.9832, took 0.0266s\n",
      "iteration 460 elbo -1222.2994, took 0.0262s\n",
      "iteration 470 elbo -1206.3948, took 0.0290s\n",
      "iteration 480 elbo -1191.2475, took 0.0305s\n",
      "iteration 490 elbo -1176.8268, took 0.0255s\n",
      "iteration 500 elbo -1163.0778, took 0.0272s\n",
      "iteration 510 elbo -1149.8766, took 0.0254s\n",
      "iteration 520 elbo -1136.9289, took 0.0260s\n",
      "iteration 530 elbo -1123.6781, took 0.0264s\n",
      "iteration 540 elbo -1109.5860, took 0.0253s\n",
      "iteration 550 elbo -1094.7972, took 0.0255s\n",
      "iteration 560 elbo -1080.1152, took 0.0245s\n",
      "iteration 570 elbo -1066.0784, took 0.0285s\n",
      "iteration 580 elbo -1052.7363, took 0.0265s\n",
      "iteration 590 elbo -1040.1078, took 0.0248s\n",
      "iteration 600 elbo -1028.2120, took 0.0244s\n",
      "iteration 610 elbo -1017.0277, took 0.0244s\n",
      "iteration 620 elbo -1006.6021, took 0.0267s\n",
      "iteration 630 elbo -997.0437, took 0.0247s\n",
      "iteration 640 elbo -988.3905, took 0.0245s\n",
      "iteration 650 elbo -980.5783, took 0.0251s\n",
      "iteration 660 elbo -973.5189, took 0.0246s\n",
      "iteration 670 elbo -967.1603, took 0.0243s\n",
      "iteration 680 elbo -961.4936, took 0.0253s\n",
      "iteration 690 elbo -956.5084, took 0.0257s\n",
      "iteration 700 elbo -952.1422, took 0.0256s\n",
      "iteration 710 elbo -948.2824, took 0.0251s\n",
      "iteration 720 elbo -944.7801, took 0.0258s\n",
      "iteration 730 elbo -941.3932, took 0.0253s\n",
      "iteration 740 elbo -937.4745, took 0.0247s\n",
      "iteration 750 elbo -930.4299, took 0.0293s\n",
      "iteration 760 elbo -912.6733, took 0.0282s\n",
      "iteration 770 elbo -888.0206, took 0.0256s\n",
      "iteration 780 elbo -866.1860, took 0.0325s\n",
      "iteration 790 elbo -848.5928, took 0.0314s\n",
      "iteration 800 elbo -835.7114, took 0.0306s\n",
      "iteration 810 elbo -825.9644, took 0.0282s\n",
      "iteration 820 elbo -817.6819, took 0.0376s\n",
      "iteration 830 elbo -810.3054, took 0.0246s\n",
      "iteration 840 elbo -803.3920, took 0.0289s\n",
      "iteration 850 elbo -796.6501, took 0.0287s\n",
      "iteration 860 elbo -790.1680, took 0.0326s\n",
      "iteration 870 elbo -784.5118, took 0.0330s\n",
      "iteration 880 elbo -779.8928, took 0.0289s\n",
      "iteration 890 elbo -776.1286, took 0.0306s\n",
      "iteration 900 elbo -773.0630, took 0.0356s\n",
      "iteration 910 elbo -770.5117, took 0.0304s\n",
      "iteration 920 elbo -768.3647, took 0.0398s\n",
      "iteration 930 elbo -766.5407, took 0.0285s\n",
      "iteration 940 elbo -764.9700, took 0.0260s\n",
      "iteration 950 elbo -763.5979, took 0.0257s\n",
      "iteration 960 elbo -762.3831, took 0.0260s\n",
      "iteration 970 elbo -761.2910, took 0.0266s\n",
      "iteration 980 elbo -760.2857, took 0.0244s\n",
      "iteration 990 elbo -759.3151, took 0.0257s\n",
      "iteration 1000 elbo -758.2531, took 0.0380s\n",
      "iteration 1010 elbo -756.6221, took 0.0335s\n",
      "iteration 1020 elbo -753.4814, took 0.0370s\n",
      "iteration 1030 elbo -751.1528, took 0.0561s\n",
      "iteration 1040 elbo -749.6950, took 0.0296s\n",
      "iteration 1050 elbo -748.3950, took 0.0284s\n",
      "iteration 1060 elbo -747.4101, took 0.0333s\n",
      "iteration 1070 elbo -746.6934, took 0.0319s\n",
      "iteration 1080 elbo -746.0946, took 0.0285s\n",
      "iteration 1090 elbo -745.5660, took 0.0290s\n",
      "iteration 1100 elbo -745.0923, took 0.0746s\n",
      "iteration 1110 elbo -744.6542, took 0.0253s\n",
      "iteration 1120 elbo -744.2285, took 0.0258s\n",
      "iteration 1130 elbo -743.8139, took 0.0239s\n",
      "iteration 1140 elbo -743.4515, took 0.0239s\n",
      "iteration 1150 elbo -743.1324, took 0.0239s\n",
      "iteration 1160 elbo -742.8348, took 0.0260s\n",
      "iteration 1170 elbo -742.5565, took 0.0381s\n",
      "iteration 1180 elbo -742.2966, took 0.0245s\n",
      "iteration 1190 elbo -742.0534, took 0.0252s\n",
      "iteration 1200 elbo -741.8257, took 0.0246s\n",
      "iteration 1210 elbo -741.6123, took 0.0453s\n",
      "iteration 1220 elbo -741.4123, took 0.0279s\n",
      "iteration 1230 elbo -741.2248, took 0.0305s\n",
      "iteration 1240 elbo -741.0488, took 0.0404s\n",
      "iteration 1250 elbo -740.8836, took 0.0375s\n",
      "iteration 1260 elbo -740.7282, took 0.0449s\n",
      "iteration 1270 elbo -740.5819, took 0.0334s\n",
      "iteration 1280 elbo -740.4439, took 0.0253s\n",
      "iteration 1290 elbo -740.3133, took 0.0241s\n",
      "iteration 1300 elbo -740.1894, took 0.0519s\n",
      "iteration 1310 elbo -740.0712, took 0.0385s\n",
      "iteration 1320 elbo -739.9569, took 0.0317s\n",
      "iteration 1330 elbo -739.8427, took 0.0330s\n",
      "iteration 1340 elbo -739.7137, took 0.0295s\n",
      "iteration 1350 elbo -739.5023, took 0.0250s\n",
      "iteration 1360 elbo -739.3329, took 0.0266s\n",
      "iteration 1370 elbo -739.2287, took 0.0241s\n",
      "iteration 1380 elbo -739.1460, took 0.0235s\n",
      "iteration 1390 elbo -739.0650, took 0.0254s\n",
      "iteration 1400 elbo -738.9902, took 0.0249s\n",
      "iteration 1410 elbo -738.9191, took 0.0241s\n",
      "iteration 1420 elbo -738.8510, took 0.0256s\n",
      "iteration 1430 elbo -738.7856, took 0.0244s\n",
      "iteration 1440 elbo -738.7230, took 0.0247s\n",
      "iteration 1450 elbo -738.6627, took 0.0279s\n",
      "iteration 1460 elbo -738.6048, took 0.0249s\n",
      "iteration 1470 elbo -738.5491, took 0.0241s\n",
      "iteration 1480 elbo -738.4954, took 0.0250s\n",
      "iteration 1490 elbo -738.4437, took 0.0275s\n",
      "iteration 1500 elbo -738.3939, took 0.0417s\n",
      "iteration 1510 elbo -738.3458, took 0.0253s\n",
      "iteration 1520 elbo -738.2993, took 0.0238s\n",
      "iteration 1530 elbo -738.2544, took 0.0241s\n",
      "iteration 1540 elbo -738.2111, took 0.0430s\n",
      "iteration 1550 elbo -738.1692, took 0.0254s\n",
      "iteration 1560 elbo -738.1286, took 0.0236s\n",
      "iteration 1570 elbo -738.0893, took 0.0244s\n",
      "iteration 1580 elbo -738.0512, took 0.0358s\n",
      "iteration 1590 elbo -738.0143, took 0.0246s\n",
      "iteration 1600 elbo -737.9785, took 0.0245s\n",
      "iteration 1610 elbo -737.9439, took 0.0288s\n",
      "iteration 1620 elbo -737.9102, took 0.0277s\n",
      "iteration 1630 elbo -737.8775, took 0.0250s\n",
      "iteration 1640 elbo -737.8457, took 0.0244s\n",
      "iteration 1650 elbo -737.8148, took 0.0244s\n",
      "iteration 1660 elbo -737.7848, took 0.0244s\n",
      "iteration 1670 elbo -737.7556, took 0.0243s\n",
      "iteration 1680 elbo -737.7271, took 0.0239s\n",
      "iteration 1690 elbo -737.6994, took 0.0322s\n",
      "iteration 1700 elbo -737.6725, took 0.0244s\n",
      "iteration 1710 elbo -737.6462, took 0.0249s\n",
      "iteration 1720 elbo -737.6206, took 0.0239s\n",
      "iteration 1730 elbo -737.5956, took 0.0237s\n",
      "iteration 1740 elbo -737.5712, took 0.0245s\n",
      "iteration 1750 elbo -737.5474, took 0.0243s\n",
      "iteration 1760 elbo -737.5241, took 0.0243s\n",
      "iteration 1770 elbo -737.5014, took 0.0240s\n",
      "iteration 1780 elbo -737.4792, took 0.0245s\n",
      "iteration 1790 elbo -737.4575, took 0.0241s\n",
      "iteration 1800 elbo -737.4363, took 0.0244s\n",
      "iteration 1810 elbo -737.4156, took 0.0246s\n",
      "iteration 1820 elbo -737.3953, took 0.0242s\n",
      "iteration 1830 elbo -737.3754, took 0.0253s\n",
      "iteration 1840 elbo -737.3559, took 0.0224s\n",
      "iteration 1850 elbo -737.3369, took 0.0240s\n",
      "iteration 1860 elbo -737.3182, took 0.0243s\n",
      "iteration 1870 elbo -737.2999, took 0.0244s\n"
     ]
    },
    {
     "name": "stdout",
     "output_type": "stream",
     "text": [
      "iteration 1880 elbo -737.2820, took 0.0239s\n",
      "iteration 1890 elbo -737.2644, took 0.0235s\n",
      "iteration 1900 elbo -737.2471, took 0.0244s\n",
      "iteration 1910 elbo -737.2302, took 0.0241s\n",
      "iteration 1920 elbo -737.2136, took 0.0270s\n",
      "iteration 1930 elbo -737.1972, took 0.0264s\n",
      "iteration 1940 elbo -737.1812, took 0.0267s\n",
      "iteration 1950 elbo -737.1654, took 0.0252s\n",
      "iteration 1960 elbo -737.1500, took 0.0243s\n",
      "iteration 1970 elbo -737.1347, took 0.0252s\n",
      "iteration 1980 elbo -737.1198, took 0.0241s\n",
      "iteration 1990 elbo -737.1051, took 0.0273s\n",
      "iteration 2000 elbo -737.0907, took 0.0237s\n",
      "CPU times: user 2min 8s, sys: 43.9 s, total: 2min 52s\n",
      "Wall time: 1min 8s\n"
     ]
    }
   ],
   "source": [
    "%%time\n",
    "log3, _ = train_natgrad_adam(m3, 2000, 10)"
   ]
  },
  {
   "cell_type": "markdown",
   "metadata": {},
   "source": [
    "## 09/15"
   ]
  },
  {
   "cell_type": "markdown",
   "metadata": {},
   "source": [
    "### Test if there is an optimizer issue\n",
    "* m1 is optimized w/ scipy (all parameters are trainable), killed b/c too slow\n",
    "* m3 is optimized w/ natgrad + adam (natgrad learns q_mu and q_sqrt)\n",
    "* Both have M = 20, K = 1, Qs=Qp=5\n",
    "* Doesn't seem so, elbo and embeddings look similar"
   ]
  },
  {
   "cell_type": "code",
   "execution_count": 27,
   "metadata": {},
   "outputs": [
    {
     "data": {
      "text/plain": [
       "Text(0, 0.5, 'inverse lengthscale')"
      ]
     },
     "execution_count": 27,
     "metadata": {},
     "output_type": "execute_result"
    },
    {
     "data": {
      "image/png": "[encoded data removed]",
      "text/plain": [
       "<Figure size 1152x288 with 4 Axes>"
      ]
     },
     "metadata": {
      "needs_background": "light"
     },
     "output_type": "display_data"
    }
   ],
   "source": [
    "fig, axs = plt.subplots(1, 4, figsize=(16, 4)) \n",
    "axs = axs.flatten()\n",
    "\n",
    "axs[0].bar(np.arange(1, 6), 1 / m1.kernel_s.lengthscales.numpy(), label='m1, kernel s')\n",
    "axs[0].legend()\n",
    "axs[0].set_xlabel('dimension')\n",
    "axs[0].set_ylabel('inverse lengthscale')\n",
    "\n",
    "axs[1].bar(np.arange(6, 11), 1 / m1.kernel_K[0].lengthscales.numpy(), label='m1, kernel k')\n",
    "axs[1].legend()\n",
    "axs[1].set_xlabel('dimension')\n",
    "axs[1].set_ylabel('inverse lengthscale')\n",
    "\n",
    "axs[2].bar(np.arange(1, 6), 1 / m3.kernel_s.lengthscales.numpy(), label='m3, kernel s')\n",
    "axs[2].legend()\n",
    "axs[2].set_xlabel('dimension')\n",
    "axs[2].set_ylabel('inverse lengthscale')\n",
    "\n",
    "axs[3].bar(np.arange(6, 11), 1 / m3.kernel_K[0].lengthscales.numpy(), label='m3, kernel k')\n",
    "axs[3].legend()\n",
    "axs[3].set_xlabel('dimension')\n",
    "axs[3].set_ylabel('inverse lengthscale')"
   ]
  },
  {
   "cell_type": "code",
   "execution_count": 26,
   "metadata": {},
   "outputs": [
    {
     "data": {
      "image/png": "[encoded data removed]",
      "text/plain": [
       "<Figure size 1152x288 with 4 Axes>"
      ]
     },
     "metadata": {
      "needs_background": "light"
     },
     "output_type": "display_data"
    }
   ],
   "source": [
    "Xs_mean1 = m1.Xs_mean.numpy()\n",
    "Xp_mean1 = m1.Xp_mean.numpy()\n",
    "top_idx_s1 = np.argsort(1 / m1.kernel_s.lengthscales.numpy())[-2:]\n",
    "top_idx_k1 = np.argsort(1 / m1.kernel_K[0].lengthscales.numpy())[-2:]\n",
    "Xs_mean3 = m3.Xs_mean.numpy()\n",
    "Xp_mean3 = m3.Xp_mean.numpy()\n",
    "top_idx_s3 = np.argsort(1 / m3.kernel_s.lengthscales.numpy())[-2:]\n",
    "top_idx_k3 = np.argsort(1 / m3.kernel_K[0].lengthscales.numpy())[-2:]\n",
    "\n",
    "fig, axs = plt.subplots(1, 4, figsize=(16, 4))\n",
    "axs = axs.flatten()\n",
    "\n",
    "for i in np.unique(labels):\n",
    "    axs[0].scatter(Xs_mean1[labels == i, top_idx_s1[-1]], Xs_mean1[labels == i, top_idx_s1[-2]], label=i)\n",
    "    axs[0].set_title(\"m1, shared\")\n",
    "    axs[1].scatter(Xp_mean1[labels == i, top_idx_k1[-1]], Xp_mean1[labels == i, top_idx_k1[-2]], label=i)\n",
    "    axs[1].set_title(\"m1, private\")\n",
    "    axs[2].scatter(Xs_mean3[labels == i, top_idx_s3[-1]], Xs_mean3[labels == i, top_idx_s3[-2]], label=i)\n",
    "    axs[2].set_title(\"m3, shared\")\n",
    "    axs[3].scatter(Xp_mean3[labels == i, top_idx_k3[-1]], Xp_mean3[labels == i, top_idx_k3[-2]], label=i)\n",
    "    axs[3].set_title(\"m3, private\")"
   ]
  },
  {
   "cell_type": "markdown",
   "metadata": {},
   "source": [
    "## Prior to 09/15"
   ]
  },
  {
   "cell_type": "markdown",
   "metadata": {},
   "source": [
    "#### Experiment 3\n",
    "* Setting\n",
    "    * K = 3, Qs = Qp = 5, M = 20\n",
    "    * Xs_mean = Xp_mean = PCA(1:5)\n",
    "    * Zs, Zp are separate permutation of respective X mean\n",
    "* Result\n",
    "    * ELBO stable at around -290 after ~8700 iterations, each iteration took 0.08s\n",
    "    * Everything gets assigned to one category.\n",
    "    * In the shared space, similar overfitting problem as Exp 2: really large lengthscale, small Xs\n",
    "    * In the private space where everything gets assigned, learn some relevant dimensions and some separations in those dimensions, but worse than Exp 2, very similar to Exp 4"
   ]
  },
  {
   "cell_type": "code",
   "execution_count": 346,
   "metadata": {},
   "outputs": [
    {
     "data": {
      "text/plain": [
       "Text(0, 0.5, 'ELBO')"
      ]
     },
     "execution_count": 346,
     "metadata": {},
     "output_type": "execute_result"
    },
    {
     "data": {
      "image/png": "[encoded data removed]",
      "text/plain": [
       "<Figure size 720x360 with 1 Axes>"
      ]
     },
     "metadata": {
      "needs_background": "light"
     },
     "output_type": "display_data"
    }
   ],
   "source": [
    "plt.figure(figsize=(10, 5))\n",
    "plt.plot(logf[1:])\n",
    "plt.xlabel('iteration')\n",
    "plt.ylabel('ELBO')"
   ]
  },
  {
   "cell_type": "code",
   "execution_count": 347,
   "metadata": {},
   "outputs": [
    {
     "data": {
      "text/plain": [
       "<matplotlib.legend.Legend at 0x1654be470>"
      ]
     },
     "execution_count": 347,
     "metadata": {},
     "output_type": "execute_result"
    },
    {
     "data": {
      "image/png": "[encoded data removed]",
      "text/plain": [
       "<Figure size 576x432 with 4 Axes>"
      ]
     },
     "metadata": {
      "needs_background": "light"
     },
     "output_type": "display_data"
    }
   ],
   "source": [
    "fig, axs = plt.subplots(2, 2, figsize=(8, 6)) \n",
    "axs = axs.flatten()\n",
    "\n",
    "axs[0].bar(np.arange(1, 6), 1 / split_gplvm.kernel_s.lengthscales.numpy(), label='kernel s')\n",
    "axs[0].legend()\n",
    "\n",
    "axs[1].bar(np.arange(1, 6), 1 / split_gplvm.kernel_K[0].lengthscales.numpy(), label='kernel k=0')\n",
    "axs[1].legend()\n",
    "\n",
    "axs[2].bar(np.arange(1, 6), 1 / split_gplvm.kernel_K[1].lengthscales.numpy(), label='kernel k=1')\n",
    "axs[2].legend()\n",
    "\n",
    "axs[3].bar(np.arange(1, 6), 1 / split_gplvm.kernel_K[2].lengthscales.numpy(), label='kernel k=2')\n",
    "axs[3].legend()\n",
    "\n",
    "plt.legend()"
   ]
  },
  {
   "cell_type": "code",
   "execution_count": 348,
   "metadata": {},
   "outputs": [],
   "source": [
    "assignments = split_gplvm.pi.numpy().argmax(axis=1)"
   ]
  },
  {
   "cell_type": "code",
   "execution_count": 349,
   "metadata": {},
   "outputs": [
    {
     "data": {
      "text/plain": [
       "array([0, 0, 0, 0, 0, 0, 0, 0, 0, 0, 0, 0, 0, 0, 0, 0, 0, 0, 0, 0, 0, 0,\n",
       "       0, 0, 0, 0, 0, 0, 0, 0, 0, 0, 0, 0, 0, 0, 0, 0, 0, 0, 0, 0, 0, 0,\n",
       "       0, 0, 0, 0, 0, 0, 0, 0, 0, 0, 0, 0, 0, 0, 0, 0, 0, 0, 0, 0, 0, 0,\n",
       "       0, 0, 0, 0, 0, 0, 0, 0, 0, 0, 0, 0, 0, 0, 0, 0, 0, 0, 0, 0, 0, 0,\n",
       "       0, 0, 0, 0, 0, 0, 0, 0, 0, 0, 0, 0])"
      ]
     },
     "execution_count": 349,
     "metadata": {},
     "output_type": "execute_result"
    }
   ],
   "source": [
    "assignments"
   ]
  },
  {
   "cell_type": "code",
   "execution_count": 350,
   "metadata": {},
   "outputs": [
    {
     "data": {
      "image/png": "[encoded data removed]",
      "text/plain": [
       "<Figure size 720x360 with 2 Axes>"
      ]
     },
     "metadata": {
      "needs_background": "light"
     },
     "output_type": "display_data"
    }
   ],
   "source": [
    "Xs_mean = split_gplvm.Xs_mean.numpy()\n",
    "Xp_mean = split_gplvm.Xp_mean.numpy()\n",
    "top_idx_s = np.argsort(1 / split_gplvm.kernel_s.lengthscales.numpy())[-2:]\n",
    "top_idx_k = np.argsort(1 / split_gplvm.kernel_K[0].lengthscales.numpy())[-2:]\n",
    "\n",
    "fig, axs = plt.subplots(1, 2, figsize=(10, 5))\n",
    "axs = axs.flatten()\n",
    "\n",
    "for i in np.unique(labels):\n",
    "    axs[0].scatter(Xs_mean[labels == i, top_idx_s[-1]], Xs_mean[labels == i, top_idx_s[-2]], label=i)\n",
    "    axs[0].set_title(\"shared\")\n",
    "    axs[1].scatter(Xp_mean[labels == i, top_idx_k[-1]], Xp_mean[labels == i, top_idx_k[-2]], label=i)\n",
    "    axs[1].set_title(\"private\")"
   ]
  },
  {
   "cell_type": "markdown",
   "metadata": {},
   "source": [
    "#### Experiment 4\n",
    "* Setting\n",
    "    * Same setting as Exp 3, except K = 1, M = 20, Zs and Zp are initialized to be the same as test gplvm (Zs takes dim 1-5, Zp takes dim 6-10)\n",
    "    * Should be the same as Exp 2\n",
    "    * Optimize w/ Adam\n",
    "* Result\n",
    "    * Converge around ELBO = -70\n",
    "    * Still overfit in the shared space, but less severe\n",
    "    * Some separation in private space, but worse than the equivalent Exp 2 (Why?)"
   ]
  },
  {
   "cell_type": "code",
   "execution_count": 328,
   "metadata": {},
   "outputs": [
    {
     "data": {
      "text/plain": [
       "Text(0, 0.5, 'ELBO')"
      ]
     },
     "execution_count": 328,
     "metadata": {},
     "output_type": "execute_result"
    },
    {
     "data": {
      "image/png": "[encoded data removed]",
      "text/plain": [
       "<Figure size 720x360 with 1 Axes>"
      ]
     },
     "metadata": {
      "needs_background": "light"
     },
     "output_type": "display_data"
    }
   ],
   "source": [
    "plt.figure(figsize=(10, 5))\n",
    "plt.plot(logf[1:])\n",
    "plt.xlabel('iteration')\n",
    "plt.ylabel('ELBO')"
   ]
  },
  {
   "cell_type": "code",
   "execution_count": 330,
   "metadata": {},
   "outputs": [
    {
     "data": {
      "text/plain": [
       "Text(0, 0.5, 'inverse lengthscale')"
      ]
     },
     "execution_count": 330,
     "metadata": {},
     "output_type": "execute_result"
    },
    {
     "data": {
      "image/png": "[encoded data removed]",
      "text/plain": [
       "<Figure size 720x360 with 2 Axes>"
      ]
     },
     "metadata": {
      "needs_background": "light"
     },
     "output_type": "display_data"
    }
   ],
   "source": [
    "fig, axs = plt.subplots(1, 2, figsize=(10, 5)) \n",
    "axs = axs.flatten()\n",
    "\n",
    "axs[0].bar(np.arange(1, 6), 1 / split_gplvm.kernel_s.lengthscales.numpy(), label='kernel s')\n",
    "axs[0].legend()\n",
    "axs[0].set_xlabel('dimension')\n",
    "axs[0].set_ylabel('inverse lengthscale')\n",
    "\n",
    "axs[1].bar(np.arange(6, 11), 1 / split_gplvm.kernel_K[0].lengthscales.numpy(), label='kernel k')\n",
    "axs[1].legend()\n",
    "axs[1].set_xlabel('dimension')\n",
    "axs[1].set_ylabel('inverse lengthscale')"
   ]
  },
  {
   "cell_type": "code",
   "execution_count": 331,
   "metadata": {},
   "outputs": [
    {
     "data": {
      "image/png": "[encoded data removed]",
      "text/plain": [
       "<Figure size 720x360 with 2 Axes>"
      ]
     },
     "metadata": {
      "needs_background": "light"
     },
     "output_type": "display_data"
    }
   ],
   "source": [
    "Xs_mean = split_gplvm.Xs_mean.numpy()\n",
    "Xp_mean = split_gplvm.Xp_mean.numpy()\n",
    "top_idx_s = np.argsort(1 / split_gplvm.kernel_s.lengthscales.numpy())[-2:]\n",
    "top_idx_k = np.argsort(1 / split_gplvm.kernel_K[0].lengthscales.numpy())[-2:]\n",
    "\n",
    "fig, axs = plt.subplots(1, 2, figsize=(10, 5))\n",
    "axs = axs.flatten()\n",
    "\n",
    "for i in np.unique(labels):\n",
    "    axs[0].scatter(Xs_mean[labels == i, top_idx_s[-1]], Xs_mean[labels == i, top_idx_s[-2]], label=i)\n",
    "    axs[0].set_title(\"shared\")\n",
    "    axs[1].scatter(Xp_mean[labels == i, top_idx_k[-1]], Xp_mean[labels == i, top_idx_k[-2]], label=i)\n",
    "    axs[1].set_title(\"private\")"
   ]
  },
  {
   "cell_type": "markdown",
   "metadata": {},
   "source": [
    "#### Experiment 5\n",
    "* Setting\n",
    "    * Same as 4, except optimize w/ scipy\n",
    "* Result\n",
    "    * Terminate w/ cholesky error"
   ]
  },
  {
   "cell_type": "code",
   "execution_count": 50,
   "metadata": {},
   "outputs": [
    {
     "data": {
      "text/html": [
       "&lt;split_gplvm.SplitGPLVM object at 0x1477dac18&gt;\n",
       "<table>\n",
       "<thead>\n",
       "<tr><th>name                               </th><th>class    </th><th>transform       </th><th>prior  </th><th>trainable  </th><th>shape       </th><th>dtype  </th><th>value                                                </th></tr>\n",
       "</thead>\n",
       "<tbody>\n",
       "<tr><td>SplitGPLVM.likelihood.variance     </td><td>Parameter</td><td>Softplus + Shift</td><td>       </td><td>True       </td><td>()          </td><td>float64</td><td>0.5716669933768824                                   </td></tr>\n",
       "<tr><td>SplitGPLVM.kernel_s.variance       </td><td>Parameter</td><td>Softplus        </td><td>       </td><td>True       </td><td>()          </td><td>float64</td><td>6.666279305532761e-44                                </td></tr>\n",
       "<tr><td>SplitGPLVM.kernel_s.lengthscales   </td><td>Parameter</td><td>Softplus        </td><td>       </td><td>True       </td><td>(5,)        </td><td>float64</td><td>[8.77657980e+00, 5.21726385e+00, 2.68549241e+01...   </td></tr>\n",
       "<tr><td>SplitGPLVM.kernel_K[0].variance    </td><td>Parameter</td><td>Softplus        </td><td>       </td><td>True       </td><td>()          </td><td>float64</td><td>1.1979879841631141e-62                               </td></tr>\n",
       "<tr><td>SplitGPLVM.kernel_K[0].lengthscales</td><td>Parameter</td><td>Softplus        </td><td>       </td><td>True       </td><td>(5,)        </td><td>float64</td><td>[38.93034656, 39.0936686, 77.41352583...             </td></tr>\n",
       "<tr><td>SplitGPLVM.Xs_mean                 </td><td>Parameter</td><td>                </td><td>       </td><td>True       </td><td>(100, 5)    </td><td>float64</td><td>[[-2.91985738e-09, -4.79116335e-09, 4.67625988e-09...</td></tr>\n",
       "<tr><td>SplitGPLVM.Xs_var                  </td><td>Parameter</td><td>Softplus        </td><td>       </td><td>True       </td><td>(100, 5)    </td><td>float64</td><td>[[0.99999989, 0.99999989, 0.99999989...              </td></tr>\n",
       "<tr><td>SplitGPLVM.Xp_mean                 </td><td>Parameter</td><td>                </td><td>       </td><td>True       </td><td>(100, 5)    </td><td>float64</td><td>[[8.71103054e-10, -2.88751202e-09, -4.30191162e-09...</td></tr>\n",
       "<tr><td>SplitGPLVM.Xp_var                  </td><td>Parameter</td><td>Softplus        </td><td>       </td><td>True       </td><td>(100, 5)    </td><td>float64</td><td>[[0.99999988, 0.99999987, 0.99999986...              </td></tr>\n",
       "<tr><td>SplitGPLVM.pi                      </td><td>Parameter</td><td>SoftmaxCentered </td><td>       </td><td>True       </td><td>(100, 1)    </td><td>float64</td><td>[[1....                                              </td></tr>\n",
       "<tr><td>SplitGPLVM.Zs.Z                    </td><td>Parameter</td><td>                </td><td>       </td><td>False      </td><td>(20, 5)     </td><td>float64</td><td>[[6.00929711e-02, 9.05355255e-02, 5.12383564e-02...  </td></tr>\n",
       "<tr><td>SplitGPLVM.Zp.Z                    </td><td>Parameter</td><td>                </td><td>       </td><td>False      </td><td>(20, 5)     </td><td>float64</td><td>[[3.36913528e-01, -2.18651668e-01, 7.86446800e-01... </td></tr>\n",
       "<tr><td>SplitGPLVM.q_mu                    </td><td>Parameter</td><td>                </td><td>       </td><td>True       </td><td>(20, 12)    </td><td>float64</td><td>[[2.99287910e-09, 8.08914428e-10, 3.20421480e-09...  </td></tr>\n",
       "<tr><td>SplitGPLVM.q_sqrt                  </td><td>Parameter</td><td>FillTriangular  </td><td>       </td><td>True       </td><td>(12, 20, 20)</td><td>float64</td><td>[[[9.99999845e-01, 0.00000000e+00, 0.00000000e+00... </td></tr>\n",
       "</tbody>\n",
       "</table>"
      ],
      "text/plain": [
       "<split_gplvm.SplitGPLVM object at 0x1477dac18>\n",
       "╒═════════════════════════════════════╤═══════════╤══════════════════╤═════════╤═════════════╤══════════════╤═════════╤═══════════════════════════════════════════════════════╕\n",
       "│ name                                │ class     │ transform        │ prior   │ trainable   │ shape        │ dtype   │ value                                                 │\n",
       "╞═════════════════════════════════════╪═══════════╪══════════════════╪═════════╪═════════════╪══════════════╪═════════╪═══════════════════════════════════════════════════════╡\n",
       "│ SplitGPLVM.likelihood.variance      │ Parameter │ Softplus + Shift │         │ True        │ ()           │ float64 │ 0.5716669933768824                                    │\n",
       "├─────────────────────────────────────┼───────────┼──────────────────┼─────────┼─────────────┼──────────────┼─────────┼───────────────────────────────────────────────────────┤\n",
       "│ SplitGPLVM.kernel_s.variance        │ Parameter │ Softplus         │         │ True        │ ()           │ float64 │ 6.666279305532761e-44                                 │\n",
       "├─────────────────────────────────────┼───────────┼──────────────────┼─────────┼─────────────┼──────────────┼─────────┼───────────────────────────────────────────────────────┤\n",
       "│ SplitGPLVM.kernel_s.lengthscales    │ Parameter │ Softplus         │         │ True        │ (5,)         │ float64 │ [8.77657980e+00, 5.21726385e+00, 2.68549241e+01...    │\n",
       "├─────────────────────────────────────┼───────────┼──────────────────┼─────────┼─────────────┼──────────────┼─────────┼───────────────────────────────────────────────────────┤\n",
       "│ SplitGPLVM.kernel_K[0].variance     │ Parameter │ Softplus         │         │ True        │ ()           │ float64 │ 1.1979879841631141e-62                                │\n",
       "├─────────────────────────────────────┼───────────┼──────────────────┼─────────┼─────────────┼──────────────┼─────────┼───────────────────────────────────────────────────────┤\n",
       "│ SplitGPLVM.kernel_K[0].lengthscales │ Parameter │ Softplus         │         │ True        │ (5,)         │ float64 │ [38.93034656, 39.0936686, 77.41352583...              │\n",
       "├─────────────────────────────────────┼───────────┼──────────────────┼─────────┼─────────────┼──────────────┼─────────┼───────────────────────────────────────────────────────┤\n",
       "│ SplitGPLVM.Xs_mean                  │ Parameter │                  │         │ True        │ (100, 5)     │ float64 │ [[-2.91985738e-09, -4.79116335e-09, 4.67625988e-09... │\n",
       "├─────────────────────────────────────┼───────────┼──────────────────┼─────────┼─────────────┼──────────────┼─────────┼───────────────────────────────────────────────────────┤\n",
       "│ SplitGPLVM.Xs_var                   │ Parameter │ Softplus         │         │ True        │ (100, 5)     │ float64 │ [[0.99999989, 0.99999989, 0.99999989...               │\n",
       "├─────────────────────────────────────┼───────────┼──────────────────┼─────────┼─────────────┼──────────────┼─────────┼───────────────────────────────────────────────────────┤\n",
       "│ SplitGPLVM.Xp_mean                  │ Parameter │                  │         │ True        │ (100, 5)     │ float64 │ [[8.71103054e-10, -2.88751202e-09, -4.30191162e-09... │\n",
       "├─────────────────────────────────────┼───────────┼──────────────────┼─────────┼─────────────┼──────────────┼─────────┼───────────────────────────────────────────────────────┤\n",
       "│ SplitGPLVM.Xp_var                   │ Parameter │ Softplus         │         │ True        │ (100, 5)     │ float64 │ [[0.99999988, 0.99999987, 0.99999986...               │\n",
       "├─────────────────────────────────────┼───────────┼──────────────────┼─────────┼─────────────┼──────────────┼─────────┼───────────────────────────────────────────────────────┤\n",
       "│ SplitGPLVM.pi                       │ Parameter │ SoftmaxCentered  │         │ True        │ (100, 1)     │ float64 │ [[1....                                               │\n",
       "├─────────────────────────────────────┼───────────┼──────────────────┼─────────┼─────────────┼──────────────┼─────────┼───────────────────────────────────────────────────────┤\n",
       "│ SplitGPLVM.Zs.Z                     │ Parameter │                  │         │ False       │ (20, 5)      │ float64 │ [[6.00929711e-02, 9.05355255e-02, 5.12383564e-02...   │\n",
       "├─────────────────────────────────────┼───────────┼──────────────────┼─────────┼─────────────┼──────────────┼─────────┼───────────────────────────────────────────────────────┤\n",
       "│ SplitGPLVM.Zp.Z                     │ Parameter │                  │         │ False       │ (20, 5)      │ float64 │ [[3.36913528e-01, -2.18651668e-01, 7.86446800e-01...  │\n",
       "├─────────────────────────────────────┼───────────┼──────────────────┼─────────┼─────────────┼──────────────┼─────────┼───────────────────────────────────────────────────────┤\n",
       "│ SplitGPLVM.q_mu                     │ Parameter │                  │         │ True        │ (20, 12)     │ float64 │ [[2.99287910e-09, 8.08914428e-10, 3.20421480e-09...   │\n",
       "├─────────────────────────────────────┼───────────┼──────────────────┼─────────┼─────────────┼──────────────┼─────────┼───────────────────────────────────────────────────────┤\n",
       "│ SplitGPLVM.q_sqrt                   │ Parameter │ FillTriangular   │         │ True        │ (12, 20, 20) │ float64 │ [[[9.99999845e-01, 0.00000000e+00, 0.00000000e+00...  │\n",
       "╘═════════════════════════════════════╧═══════════╧══════════════════╧═════════╧═════════════╧══════════════╧═════════╧═══════════════════════════════════════════════════════╛"
      ]
     },
     "execution_count": 50,
     "metadata": {},
     "output_type": "execute_result"
    }
   ],
   "source": [
    "split_gplvm"
   ]
  },
  {
   "cell_type": "code",
   "execution_count": 51,
   "metadata": {},
   "outputs": [
    {
     "data": {
      "text/plain": [
       "Text(0, 0.5, 'inverse lengthscale')"
      ]
     },
     "execution_count": 51,
     "metadata": {},
     "output_type": "execute_result"
    },
    {
     "data": {
      "image/png": "[encoded data removed]",
      "text/plain": [
       "<Figure size 720x360 with 2 Axes>"
      ]
     },
     "metadata": {
      "needs_background": "light"
     },
     "output_type": "display_data"
    }
   ],
   "source": [
    "fig, axs = plt.subplots(1, 2, figsize=(10, 5)) \n",
    "axs = axs.flatten()\n",
    "\n",
    "axs[0].bar(np.arange(1, 6), 1 / split_gplvm.kernel_s.lengthscales.numpy(), label='kernel s')\n",
    "axs[0].legend()\n",
    "axs[0].set_xlabel('dimension')\n",
    "axs[0].set_ylabel('inverse lengthscale')\n",
    "\n",
    "axs[1].bar(np.arange(6, 11), 1 / split_gplvm.kernel_K[0].lengthscales.numpy(), label='kernel k')\n",
    "axs[1].legend()\n",
    "axs[1].set_xlabel('dimension')\n",
    "axs[1].set_ylabel('inverse lengthscale')"
   ]
  },
  {
   "cell_type": "code",
   "execution_count": 52,
   "metadata": {},
   "outputs": [
    {
     "data": {
      "text/plain": [
       "array([8.77657980e+00, 5.21726385e+00, 2.68549241e+01, 2.43786979e+01,\n",
       "       3.62250170e-04])"
      ]
     },
     "execution_count": 52,
     "metadata": {},
     "output_type": "execute_result"
    }
   ],
   "source": [
    "split_gplvm.kernel_s.lengthscales.numpy()"
   ]
  },
  {
   "cell_type": "code",
   "execution_count": 53,
   "metadata": {},
   "outputs": [
    {
     "data": {
      "text/plain": [
       "array([38.93034656, 39.0936686 , 77.41352583, 45.55478043, 90.09847157])"
      ]
     },
     "execution_count": 53,
     "metadata": {},
     "output_type": "execute_result"
    }
   ],
   "source": [
    "split_gplvm.kernel_K[0].lengthscales.numpy()"
   ]
  },
  {
   "cell_type": "code",
   "execution_count": 54,
   "metadata": {},
   "outputs": [
    {
     "data": {
      "image/png": "[encoded data removed]",
      "text/plain": [
       "<Figure size 720x360 with 2 Axes>"
      ]
     },
     "metadata": {
      "needs_background": "light"
     },
     "output_type": "display_data"
    }
   ],
   "source": [
    "Xs_mean = split_gplvm.Xs_mean.numpy()\n",
    "Xp_mean = split_gplvm.Xp_mean.numpy()\n",
    "top_idx_s = np.argsort(1 / split_gplvm.kernel_s.lengthscales.numpy())[-2:]\n",
    "top_idx_k = np.argsort(1 / split_gplvm.kernel_K[0].lengthscales.numpy())[-2:]\n",
    "\n",
    "fig, axs = plt.subplots(1, 2, figsize=(10, 5))\n",
    "axs = axs.flatten()\n",
    "\n",
    "for i in np.unique(labels):\n",
    "    axs[0].scatter(Xs_mean[labels == i, top_idx_s[-1]], Xs_mean[labels == i, top_idx_s[-2]], label=i)\n",
    "    axs[0].set_title(\"shared\")\n",
    "    axs[1].scatter(Xp_mean[labels == i, top_idx_k[-1]], Xp_mean[labels == i, top_idx_k[-2]], label=i)\n",
    "    axs[1].set_title(\"private\")"
   ]
  },
  {
   "cell_type": "markdown",
   "metadata": {},
   "source": [
    "#### Experiment 6\n",
    "* Setting\n",
    "    * Same as Exp 3, except we initialize the prior to be the correct assignment\n",
    "* Result\n",
    "    * Converge at 10680, elbo=-164"
   ]
  },
  {
   "cell_type": "code",
   "execution_count": 443,
   "metadata": {},
   "outputs": [
    {
     "data": {
      "text/plain": [
       "Text(0, 0.5, 'ELBO')"
      ]
     },
     "execution_count": 443,
     "metadata": {},
     "output_type": "execute_result"
    },
    {
     "data": {
      "image/png": "[encoded data removed]",
      "text/plain": [
       "<Figure size 720x360 with 1 Axes>"
      ]
     },
     "metadata": {
      "needs_background": "light"
     },
     "output_type": "display_data"
    }
   ],
   "source": [
    "plt.figure(figsize=(10, 5))\n",
    "plt.plot(logf[1:])\n",
    "plt.xlabel('iteration')\n",
    "plt.ylabel('ELBO')"
   ]
  },
  {
   "cell_type": "code",
   "execution_count": 444,
   "metadata": {},
   "outputs": [
    {
     "data": {
      "text/plain": [
       "<matplotlib.legend.Legend at 0x15282f588>"
      ]
     },
     "execution_count": 444,
     "metadata": {},
     "output_type": "execute_result"
    },
    {
     "data": {
      "image/png": "[encoded data removed]",
      "text/plain": [
       "<Figure size 576x432 with 4 Axes>"
      ]
     },
     "metadata": {
      "needs_background": "light"
     },
     "output_type": "display_data"
    }
   ],
   "source": [
    "fig, axs = plt.subplots(2, 2, figsize=(8, 6)) \n",
    "axs = axs.flatten()\n",
    "\n",
    "axs[0].bar(np.arange(1, 6), 1 / split_gplvm.kernel_s.lengthscales.numpy(), label='kernel s')\n",
    "axs[0].legend()\n",
    "\n",
    "axs[1].bar(np.arange(1, 6), 1 / split_gplvm.kernel_K[0].lengthscales.numpy(), label='kernel k=0')\n",
    "axs[1].legend()\n",
    "\n",
    "axs[2].bar(np.arange(1, 6), 1 / split_gplvm.kernel_K[1].lengthscales.numpy(), label='kernel k=1')\n",
    "axs[2].legend()\n",
    "\n",
    "axs[3].bar(np.arange(1, 6), 1 / split_gplvm.kernel_K[2].lengthscales.numpy(), label='kernel k=2')\n",
    "axs[3].legend()\n",
    "\n",
    "plt.legend()"
   ]
  },
  {
   "cell_type": "code",
   "execution_count": 445,
   "metadata": {},
   "outputs": [],
   "source": [
    "assignments = split_gplvm.pi.numpy().argmax(axis=1)"
   ]
  },
  {
   "cell_type": "code",
   "execution_count": 446,
   "metadata": {},
   "outputs": [
    {
     "data": {
      "text/plain": [
       "array([1, 1, 1, 1, 2, 1, 2, 1, 2, 1, 1, 2, 2, 1, 2, 1, 2, 1, 1, 1, 1, 2,\n",
       "       1, 1, 2, 2, 1, 1, 2, 1, 2, 2, 1, 2, 2, 2, 1, 1, 1, 1, 1, 2, 1, 1,\n",
       "       1, 1, 1, 2, 1, 1, 1, 1, 1, 1, 1, 1, 1, 2, 1, 1, 2, 1, 2, 1, 1, 2,\n",
       "       1, 2, 1, 1, 2, 1, 1, 1, 1, 1, 2, 1, 1, 2, 1, 1, 1, 2, 1, 2, 1, 1,\n",
       "       1, 1, 2, 2, 1, 1, 1, 2, 1, 1, 1, 2])"
      ]
     },
     "execution_count": 446,
     "metadata": {},
     "output_type": "execute_result"
    }
   ],
   "source": [
    "assignments"
   ]
  },
  {
   "cell_type": "code",
   "execution_count": 452,
   "metadata": {},
   "outputs": [
    {
     "data": {
      "image/png": "[encoded data removed]",
      "text/plain": [
       "<Figure size 1152x360 with 3 Axes>"
      ]
     },
     "metadata": {
      "needs_background": "light"
     },
     "output_type": "display_data"
    }
   ],
   "source": [
    "Xs_mean = split_gplvm.Xs_mean.numpy()\n",
    "Xp_mean = split_gplvm.Xp_mean.numpy()\n",
    "Xp_mean_k1 = Xp_mean[assignments==1, :]\n",
    "Xp_mean_k2 = Xp_mean[assignments==2, :]\n",
    "\n",
    "top_idx_s = np.argsort(1 / split_gplvm.kernel_s.lengthscales.numpy())[-2:]\n",
    "top_idx_k1 = np.argsort(1 / split_gplvm.kernel_K[1].lengthscales.numpy())[-2:]\n",
    "top_idx_k2 = np.argsort(1 / split_gplvm.kernel_K[2].lengthscales.numpy())[-2:]\n",
    "\n",
    "fig, axs = plt.subplots(1, 3, figsize=(16, 5))\n",
    "axs = axs.flatten()\n",
    "\n",
    "for i in np.unique(labels):\n",
    "    axs[0].scatter(Xs_mean[labels == i, top_idx_s[-1]], \n",
    "                   Xs_mean[labels == i, top_idx_s[-2]], label=i)\n",
    "    axs[0].set_title(\"shared\")\n",
    "    axs[1].scatter(Xp_mean_k1[labels[assignments==1] == i, top_idx_k1[-1]], \n",
    "                   Xp_mean_k1[labels[assignments==1] == i, top_idx_k1[-2]], label=i)\n",
    "    axs[1].set_title(\"private: k = 1\")\n",
    "    axs[2].scatter(Xp_mean_k2[labels[assignments==2] == i, top_idx_k2[-1]], \n",
    "                   Xp_mean_k2[labels[assignments==2] == i, top_idx_k2[-2]], label=i)\n",
    "    axs[2].set_title(\"private: k = 2\")"
   ]
  }
 ],
 "metadata": {
  "kernelspec": {
   "display_name": "Python 3",
   "language": "python",
   "name": "python3"
  },
  "language_info": {
   "codemirror_mode": {
    "name": "ipython",
    "version": 3
   },
   "file_extension": ".py",
   "mimetype": "text/x-python",
   "name": "python",
   "nbconvert_exporter": "python",
   "pygments_lexer": "ipython3",
   "version": "3.6.3"
  }
 },
 "nbformat": 4,
 "nbformat_minor": 4
}
